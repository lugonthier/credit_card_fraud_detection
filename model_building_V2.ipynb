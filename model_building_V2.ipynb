{
 "cells": [
  {
   "cell_type": "code",
   "execution_count": 1,
   "metadata": {},
   "outputs": [],
   "source": [
    "import pandas as pd\n",
    "import matplotlib.pyplot as plt\n",
    "import seaborn as sns\n",
    "import numpy as np\n",
    "#import warnings\n",
    "#warnings.filterwarnings(\"ignore\")"
   ]
  },
  {
   "cell_type": "markdown",
   "metadata": {},
   "source": [
    "<b>Plan :</b>\n",
    "\n",
    "- prepare data (remove outlier) peut être le faire en EDA.\n",
    "- splitting in origin train and test set.\n",
    "- resampled origin et split it in train et valid set (only for simple prediction not for cross or tune).\n",
    "- first prediction on validation set.\n",
    "- fine tuning. (origin train set)\n",
    "- cross validation. (origin train set)\n",
    "- testing.\n",
    "- Deep learning à la fin?"
   ]
  },
  {
   "cell_type": "markdown",
   "metadata": {},
   "source": [
    "<b>Choses à faire:</b>\n",
    "\n",
    "- Expliquer pourquoi on undersample et oversample ( le papier).\n",
    "- Expliquer pourquoi resample durant la cross validation.\n",
    "- Ajouter normalisation !"
   ]
  },
  {
   "cell_type": "code",
   "execution_count": 2,
   "metadata": {},
   "outputs": [],
   "source": [
    "df =  pd.read_csv('/Users/lucas/Desktop/DS_project/credit_fraud/creditcard.csv')\n",
    "df = df[['V1', 'V3', 'V7', 'V10', 'V12', 'V14', 'V16', 'V17','V2', 'V4', 'V11', 'Class' ]]"
   ]
  },
  {
   "cell_type": "code",
   "execution_count": 3,
   "metadata": {},
   "outputs": [],
   "source": [
    "from sklearn.model_selection import train_test_split\n",
    "df_train, df_test = train_test_split(df, test_size=0.2, random_state=42)"
   ]
  },
  {
   "cell_type": "code",
   "execution_count": null,
   "metadata": {},
   "outputs": [],
   "source": []
  },
  {
   "cell_type": "code",
   "execution_count": 4,
   "metadata": {},
   "outputs": [],
   "source": [
    "def remove_outlier(df, column, th):\n",
    "    \n",
    "    outliers = []\n",
    "    fraud = df[column].loc[df['Class'] == 1].values\n",
    "   \n",
    "    q1, q3 = np.percentile(fraud, 25), np.percentile(fraud, 75)\n",
    "    \n",
    "    IQR = q3 - q1\n",
    "    \n",
    "    IQR_th = IQR * th\n",
    "    lower, upper = q1 - IQR_th, q3 + IQR_th\n",
    "    \n",
    "    print('Lower: {}'.format(lower))\n",
    "    print('Upper: {}'.format(upper))\n",
    "\n",
    "    outliers = [x for x in fraud if (x < lower) or (x > upper)]\n",
    "    print('Feature Outliers for Fraud Cases: {}'.format(len(outliers)))\n",
    "    df = df.drop(df[(df[column] > upper) | (df[column] < lower)].index)\n",
    "\n",
    "    print('Number of Instances after outliers removal: {}'.format(len(df)))\n",
    "    print('----' * 30)\n",
    "    \n",
    "    return df,outliers"
   ]
  },
  {
   "cell_type": "code",
   "execution_count": 5,
   "metadata": {},
   "outputs": [
    {
     "name": "stdout",
     "output_type": "stream",
     "text": [
      "Lower: -14.366091800976793\n",
      "Upper: 8.240850310600637\n",
      "Feature Outliers for Fraud Cases: 37\n",
      "Number of Instances after outliers removal: 227542\n",
      "------------------------------------------------------------------------------------------------------------------------\n",
      "Lower: -13.833587941017559\n",
      "Upper: 5.1082579119982\n",
      "Feature Outliers for Fraud Cases: 17\n",
      "Number of Instances after outliers removal: 227515\n",
      "------------------------------------------------------------------------------------------------------------------------\n",
      "Lower: -11.283236519193393\n",
      "Upper: 5.533053706997103\n",
      "Feature Outliers for Fraud Cases: 19\n",
      "Number of Instances after outliers removal: 227035\n",
      "------------------------------------------------------------------------------------------------------------------------\n",
      "Lower: -11.18299471493925\n",
      "Upper: 3.52935972878963\n",
      "Feature Outliers for Fraud Cases: 15\n",
      "Number of Instances after outliers removal: 225074\n",
      "------------------------------------------------------------------------------------------------------------------------\n",
      "Lower: -13.857338556260036\n",
      "Upper: 4.421548071820824\n",
      "Feature Outliers for Fraud Cases: 2\n",
      "Number of Instances after outliers removal: 225067\n",
      "------------------------------------------------------------------------------------------------------------------------\n",
      "Lower: -16.11009230512778\n",
      "Upper: 4.039159794005104\n",
      "Feature Outliers for Fraud Cases: 0\n",
      "Number of Instances after outliers removal: 224945\n",
      "------------------------------------------------------------------------------------------------------------------------\n",
      "Lower: -10.35665334836617\n",
      "Upper: 5.330569402315139\n",
      "Feature Outliers for Fraud Cases: 0\n",
      "Number of Instances after outliers removal: 224945\n",
      "------------------------------------------------------------------------------------------------------------------------\n",
      "Lower: -16.873102563187683\n",
      "Upper: 10.439579742665652\n",
      "Feature Outliers for Fraud Cases: 0\n",
      "Number of Instances after outliers removal: 224945\n",
      "------------------------------------------------------------------------------------------------------------------------\n",
      "Lower: -2.248559869982113\n",
      "Upper: 6.557437271932269\n",
      "Feature Outliers for Fraud Cases: 14\n",
      "Number of Instances after outliers removal: 216419\n",
      "------------------------------------------------------------------------------------------------------------------------\n",
      "Lower: -2.9915352535834865\n",
      "Upper: 10.325024883966124\n",
      "Feature Outliers for Fraud Cases: 0\n",
      "Number of Instances after outliers removal: 213719\n",
      "------------------------------------------------------------------------------------------------------------------------\n",
      "Lower: -2.773415682409566\n",
      "Upper: 8.632883285138563\n",
      "Feature Outliers for Fraud Cases: 0\n",
      "Number of Instances after outliers removal: 213590\n",
      "------------------------------------------------------------------------------------------------------------------------\n"
     ]
    }
   ],
   "source": [
    "for i in ['V1', 'V3', 'V7', 'V10', 'V12', 'V14', 'V16', 'V17','V2', 'V4', 'V11']:\n",
    "    (df_train,_) = remove_outlier(df_train, i, 1.5)\n",
    "\n"
   ]
  },
  {
   "cell_type": "code",
   "execution_count": 6,
   "metadata": {},
   "outputs": [],
   "source": [
    "X_origin_train = df_train.drop(columns=['Class'])\n",
    "y_origin_train = df_train['Class']\n",
    "\n",
    "X_test = df_test.drop(columns=['Class'])\n",
    "y_test = df_test['Class']"
   ]
  },
  {
   "cell_type": "code",
   "execution_count": null,
   "metadata": {},
   "outputs": [],
   "source": [
    "\n"
   ]
  },
  {
   "cell_type": "code",
   "execution_count": 42,
   "metadata": {},
   "outputs": [],
   "source": [
    "# model\n",
    "from sklearn.linear_model import LogisticRegression\n",
    "from sklearn.neighbors import KNeighborsClassifier\n",
    "from sklearn.tree import DecisionTreeClassifier\n",
    "from sklearn.ensemble import RandomForestClassifier\n",
    "from xgboost import XGBClassifier\n",
    "\n",
    "from sklearn.model_selection import cross_val_score, learning_curve\n",
    "\n",
    "from sklearn.metrics import accuracy_score, precision_score, recall_score, classification_report, confusion_matrix\n",
    "\n",
    "from imblearn.under_sampling import NearMiss\n",
    "from imblearn.over_sampling import SMOTE\n",
    "from sklearn.pipeline import make_pipeline\n",
    "from imblearn.pipeline import make_pipeline as imbalanced_make_pipeline\n",
    "from imblearn.under_sampling import RandomUnderSampler\n",
    "from imblearn.over_sampling import RandomOverSampler"
   ]
  },
  {
   "cell_type": "code",
   "execution_count": 8,
   "metadata": {},
   "outputs": [],
   "source": [
    "over = SMOTE(sampling_strategy=0.2)\n",
    "under = RandomUnderSampler(sampling_strategy=0.6)\n",
    "\n",
    "X_train_resampled, y_train_resampled = over.fit_sample(X_origin_train, y_origin_train)\n",
    "X_train_resampled, y_train_resampled = under.fit_sample(X_train_resampled, y_train_resampled)\n"
   ]
  },
  {
   "cell_type": "code",
   "execution_count": 9,
   "metadata": {},
   "outputs": [],
   "source": [
    "X_train, X_valid, y_train, y_valid = train_test_split(X_train_resampled, y_train_resampled, test_size=0.2, random_state=42)"
   ]
  },
  {
   "cell_type": "code",
   "execution_count": null,
   "metadata": {},
   "outputs": [],
   "source": []
  },
  {
   "cell_type": "code",
   "execution_count": 10,
   "metadata": {},
   "outputs": [],
   "source": [
    "classifiers = {\n",
    "    \"RandomForest\": RandomForestClassifier(),\n",
    "    \"LogisticRegression\": LogisticRegression(),\n",
    "    \"DecisionTreeClassifier\": DecisionTreeClassifier(),\n",
    "    \"XGBoost\":XGBClassifier()\n",
    "}"
   ]
  },
  {
   "cell_type": "code",
   "execution_count": null,
   "metadata": {},
   "outputs": [],
   "source": []
  },
  {
   "cell_type": "code",
   "execution_count": null,
   "metadata": {},
   "outputs": [],
   "source": []
  },
  {
   "cell_type": "code",
   "execution_count": 11,
   "metadata": {},
   "outputs": [],
   "source": [
    "models = []\n",
    "train_scores = []\n",
    "valid_scores = []\n",
    "valid_precision_scores = []\n",
    "valid_recall_scores = []"
   ]
  },
  {
   "cell_type": "code",
   "execution_count": 12,
   "metadata": {},
   "outputs": [
    {
     "name": "stdout",
     "output_type": "stream",
     "text": [
      "training with RandomForest ...\n",
      "training with LogisticRegression ...\n",
      "training with DecisionTreeClassifier ...\n",
      "training with XGBoost ...\n"
     ]
    }
   ],
   "source": [
    "for key, classifier in classifiers.items():\n",
    "    print('training with ' + key + ' ...')\n",
    "   \n",
    "    classifier.fit(X_train, y_train)\n",
    "    \n",
    "    models.append(key)\n",
    "    train_scores.append(classifier.score(X_train, y_train))\n",
    "    \n",
    "    y_pred = classifier.predict(X_valid)\n",
    "\n",
    "    valid_scores.append(accuracy_score(y_pred, y_valid))\n",
    "    valid_precision_scores.append(precision_score(y_valid, y_pred))\n",
    "    valid_recall_scores.append(recall_score(y_valid, y_pred))\n",
    "    \n",
    "    "
   ]
  },
  {
   "cell_type": "code",
   "execution_count": 13,
   "metadata": {},
   "outputs": [
    {
     "data": {
      "text/html": [
       "<div>\n",
       "<style scoped>\n",
       "    .dataframe tbody tr th:only-of-type {\n",
       "        vertical-align: middle;\n",
       "    }\n",
       "\n",
       "    .dataframe tbody tr th {\n",
       "        vertical-align: top;\n",
       "    }\n",
       "\n",
       "    .dataframe thead th {\n",
       "        text-align: right;\n",
       "    }\n",
       "</style>\n",
       "<table border=\"1\" class=\"dataframe\">\n",
       "  <thead>\n",
       "    <tr style=\"text-align: right;\">\n",
       "      <th></th>\n",
       "      <th>model</th>\n",
       "      <th>training score</th>\n",
       "      <th>validation accuracy</th>\n",
       "      <th>validation precision</th>\n",
       "      <th>validation recall</th>\n",
       "    </tr>\n",
       "  </thead>\n",
       "  <tbody>\n",
       "    <tr>\n",
       "      <th>0</th>\n",
       "      <td>RandomForest</td>\n",
       "      <td>1.000000</td>\n",
       "      <td>0.999121</td>\n",
       "      <td>0.998929</td>\n",
       "      <td>0.998692</td>\n",
       "    </tr>\n",
       "    <tr>\n",
       "      <th>1</th>\n",
       "      <td>LogisticRegression</td>\n",
       "      <td>0.938005</td>\n",
       "      <td>0.934467</td>\n",
       "      <td>0.958510</td>\n",
       "      <td>0.859912</td>\n",
       "    </tr>\n",
       "    <tr>\n",
       "      <th>2</th>\n",
       "      <td>DecisionTreeClassifier</td>\n",
       "      <td>1.000000</td>\n",
       "      <td>0.992792</td>\n",
       "      <td>0.987236</td>\n",
       "      <td>0.993340</td>\n",
       "    </tr>\n",
       "    <tr>\n",
       "      <th>3</th>\n",
       "      <td>XGBoost</td>\n",
       "      <td>0.965607</td>\n",
       "      <td>0.961937</td>\n",
       "      <td>0.979652</td>\n",
       "      <td>0.916042</td>\n",
       "    </tr>\n",
       "  </tbody>\n",
       "</table>\n",
       "</div>"
      ],
      "text/plain": [
       "                    model  training score  validation accuracy  \\\n",
       "0            RandomForest        1.000000             0.999121   \n",
       "1      LogisticRegression        0.938005             0.934467   \n",
       "2  DecisionTreeClassifier        1.000000             0.992792   \n",
       "3                 XGBoost        0.965607             0.961937   \n",
       "\n",
       "   validation precision  validation recall  \n",
       "0              0.998929           0.998692  \n",
       "1              0.958510           0.859912  \n",
       "2              0.987236           0.993340  \n",
       "3              0.979652           0.916042  "
      ]
     },
     "execution_count": 13,
     "metadata": {},
     "output_type": "execute_result"
    }
   ],
   "source": [
    "results = pd.DataFrame(data={'model':models, 'training score':train_scores,\n",
    "                             'validation accuracy':valid_scores,\n",
    "                             'validation precision':valid_precision_scores,\n",
    "                            'validation recall':valid_recall_scores})\n",
    "results"
   ]
  },
  {
   "cell_type": "markdown",
   "metadata": {},
   "source": [
    "- faire des barplots"
   ]
  },
  {
   "cell_type": "markdown",
   "metadata": {},
   "source": [
    "<br>\n",
    "<b>fine tuning</b>"
   ]
  },
  {
   "cell_type": "code",
   "execution_count": 14,
   "metadata": {},
   "outputs": [],
   "source": [
    "from sklearn.model_selection import GridSearchCV"
   ]
  },
  {
   "cell_type": "code",
   "execution_count": 28,
   "metadata": {},
   "outputs": [],
   "source": [
    "\n",
    "params_classifiers = {\n",
    "    \"RandomForest\": [{'bootstrap':[False,True],'n_estimators':range(50,150,20),'max_depth':range(1,6,1),\n",
    "               'max_features':['auto','sqrt','log2']}],\n",
    "    \n",
    "    \"DecisionTreeClassifier\": [{'criterion':['gini','entropy'],'splitter':['best', 'random'],'max_depth':range(1,6,1),\n",
    "               'max_features':['auto','sqrt','log2']}],\n",
    "    \n",
    "    \"LogisticRegression\": [{'max_iter':range(100,500,100),'C': [ 0.1, 1, 10]}],\n",
    "    \"XGBoost\": [{'max_depth': range(1,6,1),'n_estimators': range(60, 220, 40),\n",
    "    'learning_rate': [0.1, 0.01, 0.05]}]\n",
    "    \n",
    "}\n",
    "\n"
   ]
  },
  {
   "cell_type": "code",
   "execution_count": 30,
   "metadata": {},
   "outputs": [
    {
     "name": "stdout",
     "output_type": "stream",
     "text": [
      "RandomForest tuning...\n",
      "LogisticRegression tuning...\n",
      "DecisionTreeClassifier tuning...\n",
      "XGBoost tuning...\n"
     ]
    }
   ],
   "source": [
    "estimators = []\n",
    "best_estimators = []\n",
    "best_scores = []\n",
    "for key, classifier in classifiers.items():\n",
    "    print(key + ' tuning...')\n",
    "    estimators.append(key)\n",
    "    \n",
    "    grid = GridSearchCV(classifier, params_classifiers[key], scoring = 'balanced_accuracy')\n",
    "    grid.fit(X_train_resampled, y_train_resampled)\n",
    "    \n",
    "    best_estimators.append(grid.best_estimator_)\n",
    "    best_scores.append(grid.best_score_)"
   ]
  },
  {
   "cell_type": "code",
   "execution_count": 31,
   "metadata": {},
   "outputs": [
    {
     "data": {
      "text/html": [
       "<div>\n",
       "<style scoped>\n",
       "    .dataframe tbody tr th:only-of-type {\n",
       "        vertical-align: middle;\n",
       "    }\n",
       "\n",
       "    .dataframe tbody tr th {\n",
       "        vertical-align: top;\n",
       "    }\n",
       "\n",
       "    .dataframe thead th {\n",
       "        text-align: right;\n",
       "    }\n",
       "</style>\n",
       "<table border=\"1\" class=\"dataframe\">\n",
       "  <thead>\n",
       "    <tr style=\"text-align: right;\">\n",
       "      <th></th>\n",
       "      <th>model</th>\n",
       "      <th>best estimator</th>\n",
       "      <th>best score</th>\n",
       "    </tr>\n",
       "  </thead>\n",
       "  <tbody>\n",
       "    <tr>\n",
       "      <th>0</th>\n",
       "      <td>RandomForest</td>\n",
       "      <td>(DecisionTreeClassifier(max_depth=5, max_featu...</td>\n",
       "      <td>0.931796</td>\n",
       "    </tr>\n",
       "    <tr>\n",
       "      <th>1</th>\n",
       "      <td>LogisticRegression</td>\n",
       "      <td>LogisticRegression(C=0.1)</td>\n",
       "      <td>0.923296</td>\n",
       "    </tr>\n",
       "    <tr>\n",
       "      <th>2</th>\n",
       "      <td>DecisionTreeClassifier</td>\n",
       "      <td>DecisionTreeClassifier(criterion='entropy', ma...</td>\n",
       "      <td>0.927644</td>\n",
       "    </tr>\n",
       "    <tr>\n",
       "      <th>3</th>\n",
       "      <td>XGBoost</td>\n",
       "      <td>XGBClassifier(max_depth=5, n_estimators=180)</td>\n",
       "      <td>0.991512</td>\n",
       "    </tr>\n",
       "  </tbody>\n",
       "</table>\n",
       "</div>"
      ],
      "text/plain": [
       "                    model                                     best estimator  \\\n",
       "0            RandomForest  (DecisionTreeClassifier(max_depth=5, max_featu...   \n",
       "1      LogisticRegression                          LogisticRegression(C=0.1)   \n",
       "2  DecisionTreeClassifier  DecisionTreeClassifier(criterion='entropy', ma...   \n",
       "3                 XGBoost       XGBClassifier(max_depth=5, n_estimators=180)   \n",
       "\n",
       "   best score  \n",
       "0    0.931796  \n",
       "1    0.923296  \n",
       "2    0.927644  \n",
       "3    0.991512  "
      ]
     },
     "execution_count": 31,
     "metadata": {},
     "output_type": "execute_result"
    }
   ],
   "source": [
    "tuning = pd.DataFrame(data={'model':estimators, 'best estimator':best_estimators,\n",
    "                             'best score':best_scores})\n",
    "tuning"
   ]
  },
  {
   "cell_type": "markdown",
   "metadata": {},
   "source": [
    "- cross-validation"
   ]
  },
  {
   "cell_type": "code",
   "execution_count": 50,
   "metadata": {},
   "outputs": [],
   "source": [
    "all_scores = []\n",
    "for estim in best_estimators:\n",
    "    pipeline = imbalanced_make_pipeline(over, under, estim)\n",
    "    all_scores.append(cross_val_score(pipeline, X_origin_train, y_origin_train, cv=10, scoring='balanced_accuracy'))"
   ]
  },
  {
   "cell_type": "code",
   "execution_count": 51,
   "metadata": {},
   "outputs": [
    {
     "data": {
      "image/png": "[encoded data removed]",
      "text/plain": [
       "<Figure size 432x288 with 1 Axes>"
      ]
     },
     "metadata": {
      "needs_background": "light"
     },
     "output_type": "display_data"
    }
   ],
   "source": [
    "entries = []\n",
    "for i in range(0, len(all_scores)):\n",
    "    for score in all_scores[i]:\n",
    "        entries.append((models[i], score))\n",
    "        \n",
    "cv_df = pd.DataFrame(entries, columns=['model','accuracy'])\n",
    "\n",
    "    \n",
    "sns.boxplot(x='model', y='accuracy', data=cv_df)\n",
    "sns.stripplot(x='model', y='accuracy', data=cv_df, \n",
    "                          size=8, jitter=True, edgecolor=\"gray\", linewidth=2)\n",
    "plt.show()"
   ]
  },
  {
   "cell_type": "code",
   "execution_count": null,
   "metadata": {},
   "outputs": [],
   "source": []
  },
  {
   "cell_type": "code",
   "execution_count": null,
   "metadata": {},
   "outputs": [],
   "source": []
  },
  {
   "cell_type": "markdown",
   "metadata": {},
   "source": [
    "- testing"
   ]
  },
  {
   "cell_type": "code",
   "execution_count": 43,
   "metadata": {},
   "outputs": [
    {
     "name": "stdout",
     "output_type": "stream",
     "text": [
      "RandomForestClassifier\n",
      "              precision    recall  f1-score   support\n",
      "\n",
      "           0       1.00      1.00      1.00     56864\n",
      "           1       0.27      0.89      0.42        98\n",
      "\n",
      "    accuracy                           1.00     56962\n",
      "   macro avg       0.64      0.94      0.71     56962\n",
      "weighted avg       1.00      1.00      1.00     56962\n",
      "\n"
     ]
    },
    {
     "data": {
      "image/png": "[encoded data removed]",
      "text/plain": [
       "<Figure size 432x288 with 2 Axes>"
      ]
     },
     "metadata": {
      "needs_background": "light"
     },
     "output_type": "display_data"
    },
    {
     "name": "stdout",
     "output_type": "stream",
     "text": [
      "------------------------------\n",
      "LogisticRegression\n",
      "              precision    recall  f1-score   support\n",
      "\n",
      "           0       1.00      0.97      0.98     56864\n",
      "           1       0.05      0.92      0.09        98\n",
      "\n",
      "    accuracy                           0.97     56962\n",
      "   macro avg       0.52      0.94      0.54     56962\n",
      "weighted avg       1.00      0.97      0.98     56962\n",
      "\n"
     ]
    },
    {
     "data": {
      "image/png": "[encoded data removed]",
      "text/plain": [
       "<Figure size 432x288 with 2 Axes>"
      ]
     },
     "metadata": {
      "needs_background": "light"
     },
     "output_type": "display_data"
    },
    {
     "name": "stdout",
     "output_type": "stream",
     "text": [
      "------------------------------\n",
      "DecisionTreeClassifier\n",
      "              precision    recall  f1-score   support\n",
      "\n",
      "           0       1.00      0.96      0.98     56864\n",
      "           1       0.04      0.83      0.07        98\n",
      "\n",
      "    accuracy                           0.96     56962\n",
      "   macro avg       0.52      0.89      0.53     56962\n",
      "weighted avg       1.00      0.96      0.98     56962\n",
      "\n"
     ]
    },
    {
     "data": {
      "image/png": "[encoded data removed]",
      "text/plain": [
       "<Figure size 432x288 with 2 Axes>"
      ]
     },
     "metadata": {
      "needs_background": "light"
     },
     "output_type": "display_data"
    },
    {
     "name": "stdout",
     "output_type": "stream",
     "text": [
      "------------------------------\n",
      "XGBClassifier\n",
      "              precision    recall  f1-score   support\n",
      "\n",
      "           0       1.00      0.99      1.00     56864\n",
      "           1       0.23      0.89      0.36        98\n",
      "\n",
      "    accuracy                           0.99     56962\n",
      "   macro avg       0.61      0.94      0.68     56962\n",
      "weighted avg       1.00      0.99      1.00     56962\n",
      "\n"
     ]
    },
    {
     "data": {
      "image/png": "[encoded data removed]",
      "text/plain": [
       "<Figure size 432x288 with 2 Axes>"
      ]
     },
     "metadata": {
      "needs_background": "light"
     },
     "output_type": "display_data"
    },
    {
     "name": "stdout",
     "output_type": "stream",
     "text": [
      "------------------------------\n"
     ]
    }
   ],
   "source": [
    "\n",
    "for estim in best_estimators:\n",
    "    print(estim.__class__.__name__)\n",
    "    pipeline = imbalanced_make_pipeline(over, under, estim)\n",
    "    pipeline.fit(X_origin_train, y_origin_train)\n",
    "    y_pred = pipeline.predict(X_test)\n",
    "    print(classification_report(y_test, y_pred))\n",
    "    conf = confusion_matrix(y_test, y_pred)\n",
    "    sns.heatmap(conf,annot=True,fmt='2.0f')\n",
    "    plt.show()\n",
    "    print('-'*30)\n",
    "    \n",
    "    "
   ]
  },
  {
   "cell_type": "code",
   "execution_count": null,
   "metadata": {},
   "outputs": [],
   "source": []
  }
 ],
 "metadata": {
  "kernelspec": {
   "display_name": "Python 3",
   "language": "python",
   "name": "python3"
  },
  "language_info": {
   "codemirror_mode": {
    "name": "ipython",
    "version": 3
   },
   "file_extension": ".py",
   "mimetype": "text/x-python",
   "name": "python",
   "nbconvert_exporter": "python",
   "pygments_lexer": "ipython3",
   "version": "3.7.9"
  }
 },
 "nbformat": 4,
 "nbformat_minor": 4
}
