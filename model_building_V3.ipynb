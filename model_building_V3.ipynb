{
 "cells": [
  {
   "cell_type": "code",
   "execution_count": 1,
   "metadata": {},
   "outputs": [],
   "source": [
    "import pandas as pd\n",
    "import matplotlib.pyplot as plt\n",
    "import seaborn as sns\n",
    "import numpy as np\n",
    "#import warnings\n",
    "#warnings.filterwarnings(\"ignore\")"
   ]
  },
  {
   "cell_type": "markdown",
   "metadata": {},
   "source": [
    "<b>Plan :</b>\n",
    "\n",
    "- prepare data (remove outlier) peut être le faire en EDA.\n",
    "- splitting in origin train and test set.\n",
    "- resampled origin et split it in train et valid set (only for simple prediction not for cross or tune).\n",
    "- first prediction on validation set.\n",
    "- fine tuning. (origin train set)\n",
    "- cross validation. (origin train set)\n",
    "- testing.\n",
    "- Deep learning à la fin?"
   ]
  },
  {
   "cell_type": "markdown",
   "metadata": {},
   "source": [
    "<b>Choses à faire:</b>\n",
    "\n",
    "- Ajouter barplot pour comparer les modèles.\n",
    "- Expliquer pourquoi on undersample et oversample ( le papier).\n",
    "- Expliquer pourquoi resample durant la cross validation.\n",
    "- Ajouter normalisation !\n",
    "- Faire grid search cv avec pipeline??"
   ]
  },
  {
   "cell_type": "code",
   "execution_count": 2,
   "metadata": {},
   "outputs": [],
   "source": [
    "df_origin_train =  pd.read_csv('/Users/lucas/Desktop/DS_project/credit_fraud/train_set.csv')\n",
    "df_test =  pd.read_csv('/Users/lucas/Desktop/DS_project/credit_fraud/test_set.csv')"
   ]
  },
  {
   "cell_type": "code",
   "execution_count": 3,
   "metadata": {},
   "outputs": [],
   "source": [
    "X_origin_train = df_origin_train.drop(columns=['Class'])\n",
    "y_origin_train = df_origin_train['Class']\n",
    "\n",
    "X_test = df_test.drop(columns=['Class'])\n",
    "y_test = df_test['Class']"
   ]
  },
  {
   "cell_type": "code",
   "execution_count": null,
   "metadata": {},
   "outputs": [],
   "source": [
    "\n"
   ]
  },
  {
   "cell_type": "code",
   "execution_count": 4,
   "metadata": {},
   "outputs": [],
   "source": [
    "from sklearn.model_selection import train_test_split\n",
    "# model\n",
    "from sklearn.linear_model import LogisticRegression\n",
    "from sklearn.tree import DecisionTreeClassifier\n",
    "from sklearn.ensemble import RandomForestClassifier\n",
    "from xgboost import XGBClassifier\n",
    "\n",
    "from sklearn.model_selection import cross_val_score, learning_curve\n",
    "\n",
    "from sklearn.metrics import accuracy_score, precision_score, recall_score, classification_report, confusion_matrix\n",
    "\n",
    "from imblearn.under_sampling import NearMiss\n",
    "from imblearn.over_sampling import SMOTE\n",
    "from sklearn.pipeline import make_pipeline\n",
    "from imblearn.pipeline import make_pipeline as imbalanced_make_pipeline\n",
    "from imblearn.under_sampling import RandomUnderSampler\n",
    "from imblearn.over_sampling import RandomOverSampler"
   ]
  },
  {
   "cell_type": "markdown",
   "metadata": {},
   "source": [
    "Le défi de travailler avec des ensembles de données déséquilibrés (Imbalanced) est que la plupart des techniques de ML ignoreront la (ou les) classe minoriaire, et auront à leur tour des performances médiocres sur la (ou les) classe minoritaire, bien que ce soit généralement la performance sur la classe minoritaire qui soit la plus importante.\n",
    "\n",
    "Une approche pour traiter les ensembles de données déséquilibrés consiste à suréchantillonner (oversample) la (ou les) classe(s) minoritaire(s):\n",
    "- L’approche la plus simple consiste à dupliquer des exemples dans la classe minoritaire, bien que ces exemples n’ajoutent aucune nouvelle information au modèle.\n",
    "- Au lieu de cela, de nouveaux exemples peuvent être synthétisés à partir des exemples existants. Il s'agit d'un type d'augmentation des données pour la (les) classe(s) minoritaire(s) et est appelé Synthetic Minority Oversampling TEchnique, ou SMOTE en abrégé.\n",
    "\n",
    "\n",
    "- Comment marche SMOTE?\n",
    "    - SMOTE fonctionne en sélectionnant des exemples qui sont proches dans l'espace des variables, en traçant une ligne entre les exemples dans l'espace des variables et en dessinant un nouvel échantillon à un point le long de cette ligne.\n",
    "    - Plus précisément, un exemple aléatoire de la classe minoritaire est d'abord choisi. On trouve alors k des voisins les plus proches. Un voisin sélectionné au hasard est choisi et un exemple synthétique est créé à un point sélectionné au hasard entre les deux exemples dans l'espace des variables.\n",
    "\n",
    "- Cette procédure peut être utilisée pour créer autant d'exemples synthétiques pour la classe minoritaire que nécessaire. Comme décrit dans l'article, il suggère d'utiliser d'abord le sous-échantillonnage aléatoire (random undersampling) pour réduire le nombre d'exemples dans la classe majoritaire, puis d'utiliser SMOTE pour suréchantillonner la classe minoritaire afin d'équilibrer la distribution de classe.\n",
    "\n",
    "- On pourrait penser qu'il suffit d'effectuer ces méthodes sur le dataset une fois, avant de l'utiliser dans nos modèle. Cependant, ce n'est pas ce que nous allons faire, car cela peut poser énormément de problème notamment lors de la validation. Nous allons expliquer notre méthodologie en utilisant SMOTE au fur et à mesure."
   ]
  },
  {
   "cell_type": "code",
   "execution_count": 5,
   "metadata": {},
   "outputs": [],
   "source": [
    "over = SMOTE(sampling_strategy=0.2)\n",
    "under = RandomUnderSampler(sampling_strategy=0.6)\n",
    "\n",
    "X_train_resampled, y_train_resampled = over.fit_sample(X_origin_train, y_origin_train)\n",
    "X_train_resampled, y_train_resampled = under.fit_sample(X_train_resampled, y_train_resampled)\n"
   ]
  },
  {
   "cell_type": "code",
   "execution_count": 6,
   "metadata": {},
   "outputs": [],
   "source": [
    "X_train, X_valid, y_train, y_valid = train_test_split(X_train_resampled, y_train_resampled, test_size=0.2, random_state=42)"
   ]
  },
  {
   "cell_type": "code",
   "execution_count": null,
   "metadata": {},
   "outputs": [],
   "source": []
  },
  {
   "cell_type": "code",
   "execution_count": 7,
   "metadata": {},
   "outputs": [],
   "source": [
    "classifiers = {\n",
    "    \"RandomForest\": RandomForestClassifier(),\n",
    "    \"LogisticRegression\": LogisticRegression(),\n",
    "    \"DecisionTreeClassifier\": DecisionTreeClassifier(),\n",
    "    \"XGBoost\":XGBClassifier()\n",
    "}"
   ]
  },
  {
   "cell_type": "code",
   "execution_count": null,
   "metadata": {},
   "outputs": [],
   "source": []
  },
  {
   "cell_type": "code",
   "execution_count": null,
   "metadata": {},
   "outputs": [],
   "source": []
  },
  {
   "cell_type": "code",
   "execution_count": 8,
   "metadata": {},
   "outputs": [],
   "source": [
    "models = []\n",
    "train_scores = []\n",
    "valid_scores = []\n",
    "valid_precision_scores = []\n",
    "valid_recall_scores = []"
   ]
  },
  {
   "cell_type": "code",
   "execution_count": 9,
   "metadata": {},
   "outputs": [
    {
     "name": "stdout",
     "output_type": "stream",
     "text": [
      "training with RandomForest ...\n",
      "training with LogisticRegression ...\n",
      "training with DecisionTreeClassifier ...\n",
      "training with XGBoost ...\n"
     ]
    }
   ],
   "source": [
    "for key, classifier in classifiers.items():\n",
    "    print('training with ' + key + ' ...')\n",
    "   \n",
    "    classifier.fit(X_train, y_train)\n",
    "    \n",
    "    models.append(key)\n",
    "    train_scores.append(classifier.score(X_train, y_train))\n",
    "    \n",
    "    y_pred = classifier.predict(X_valid)\n",
    "\n",
    "    valid_scores.append(accuracy_score(y_pred, y_valid))\n",
    "    valid_precision_scores.append(precision_score(y_valid, y_pred))\n",
    "    valid_recall_scores.append(recall_score(y_valid, y_pred))\n",
    "    \n",
    "    "
   ]
  },
  {
   "cell_type": "code",
   "execution_count": 10,
   "metadata": {},
   "outputs": [
    {
     "data": {
      "text/html": [
       "<div>\n",
       "<style scoped>\n",
       "    .dataframe tbody tr th:only-of-type {\n",
       "        vertical-align: middle;\n",
       "    }\n",
       "\n",
       "    .dataframe tbody tr th {\n",
       "        vertical-align: top;\n",
       "    }\n",
       "\n",
       "    .dataframe thead th {\n",
       "        text-align: right;\n",
       "    }\n",
       "</style>\n",
       "<table border=\"1\" class=\"dataframe\">\n",
       "  <thead>\n",
       "    <tr style=\"text-align: right;\">\n",
       "      <th></th>\n",
       "      <th>model</th>\n",
       "      <th>training score</th>\n",
       "      <th>validation accuracy</th>\n",
       "      <th>validation precision</th>\n",
       "      <th>validation recall</th>\n",
       "    </tr>\n",
       "  </thead>\n",
       "  <tbody>\n",
       "    <tr>\n",
       "      <th>0</th>\n",
       "      <td>RandomForest</td>\n",
       "      <td>1.000000</td>\n",
       "      <td>0.998305</td>\n",
       "      <td>0.997687</td>\n",
       "      <td>0.997687</td>\n",
       "    </tr>\n",
       "    <tr>\n",
       "      <th>1</th>\n",
       "      <td>LogisticRegression</td>\n",
       "      <td>0.942023</td>\n",
       "      <td>0.942978</td>\n",
       "      <td>0.970611</td>\n",
       "      <td>0.870722</td>\n",
       "    </tr>\n",
       "    <tr>\n",
       "      <th>2</th>\n",
       "      <td>DecisionTreeClassifier</td>\n",
       "      <td>1.000000</td>\n",
       "      <td>0.992417</td>\n",
       "      <td>0.987565</td>\n",
       "      <td>0.991790</td>\n",
       "    </tr>\n",
       "    <tr>\n",
       "      <th>3</th>\n",
       "      <td>XGBoost</td>\n",
       "      <td>0.966785</td>\n",
       "      <td>0.963736</td>\n",
       "      <td>0.980869</td>\n",
       "      <td>0.918941</td>\n",
       "    </tr>\n",
       "  </tbody>\n",
       "</table>\n",
       "</div>"
      ],
      "text/plain": [
       "                    model  training score  validation accuracy  \\\n",
       "0            RandomForest        1.000000             0.998305   \n",
       "1      LogisticRegression        0.942023             0.942978   \n",
       "2  DecisionTreeClassifier        1.000000             0.992417   \n",
       "3                 XGBoost        0.966785             0.963736   \n",
       "\n",
       "   validation precision  validation recall  \n",
       "0              0.997687           0.997687  \n",
       "1              0.970611           0.870722  \n",
       "2              0.987565           0.991790  \n",
       "3              0.980869           0.918941  "
      ]
     },
     "execution_count": 10,
     "metadata": {},
     "output_type": "execute_result"
    }
   ],
   "source": [
    "results = pd.DataFrame(data={'model':models, 'training score':train_scores,\n",
    "                             'validation accuracy':valid_scores,\n",
    "                             'validation precision':valid_precision_scores,\n",
    "                            'validation recall':valid_recall_scores})\n",
    "results"
   ]
  },
  {
   "cell_type": "code",
   "execution_count": null,
   "metadata": {},
   "outputs": [],
   "source": []
  },
  {
   "cell_type": "markdown",
   "metadata": {},
   "source": [
    "- faire des barplots"
   ]
  },
  {
   "cell_type": "markdown",
   "metadata": {},
   "source": [
    "<br>\n",
    "<b>fine tuning</b>"
   ]
  },
  {
   "cell_type": "code",
   "execution_count": 11,
   "metadata": {},
   "outputs": [],
   "source": [
    "from sklearn.model_selection import GridSearchCV"
   ]
  },
  {
   "cell_type": "code",
   "execution_count": 12,
   "metadata": {},
   "outputs": [],
   "source": [
    "\n",
    "params_classifiers = {\n",
    "    \"RandomForest\": [{'bootstrap':[False,True],'n_estimators':range(50,150,20),'max_depth':range(1,6,1),\n",
    "               'max_features':['auto','sqrt','log2']}],\n",
    "    \n",
    "    \"DecisionTreeClassifier\": [{'criterion':['gini','entropy'],'splitter':['best', 'random'],'max_depth':range(1,6,1),\n",
    "               'max_features':['auto','sqrt','log2']}],\n",
    "    \n",
    "    \"LogisticRegression\": [{'max_iter':range(100,500,100),'C': [ 0.1, 1, 10]}],\n",
    "    \"XGBoost\": [{'max_depth': range(1,6,1),'n_estimators': range(60, 220, 40),\n",
    "    'learning_rate': [0.1, 0.01, 0.05]}]\n",
    "    \n",
    "}\n",
    "\n"
   ]
  },
  {
   "cell_type": "code",
   "execution_count": 13,
   "metadata": {},
   "outputs": [
    {
     "name": "stdout",
     "output_type": "stream",
     "text": [
      "RandomForest tuning...\n",
      "LogisticRegression tuning...\n",
      "DecisionTreeClassifier tuning...\n",
      "XGBoost tuning...\n"
     ]
    }
   ],
   "source": [
    "estimators = []\n",
    "best_estimators = []\n",
    "best_scores = []\n",
    "for key, classifier in classifiers.items():\n",
    "    print(key + ' tuning...')\n",
    "    estimators.append(key)\n",
    "    \n",
    "    grid = GridSearchCV(classifier, params_classifiers[key], scoring = 'balanced_accuracy')\n",
    "    grid.fit(X_train_resampled, y_train_resampled)\n",
    "    \n",
    "    best_estimators.append(grid.best_estimator_)\n",
    "    best_scores.append(grid.best_score_)"
   ]
  },
  {
   "cell_type": "code",
   "execution_count": 14,
   "metadata": {},
   "outputs": [
    {
     "data": {
      "text/html": [
       "<div>\n",
       "<style scoped>\n",
       "    .dataframe tbody tr th:only-of-type {\n",
       "        vertical-align: middle;\n",
       "    }\n",
       "\n",
       "    .dataframe tbody tr th {\n",
       "        vertical-align: top;\n",
       "    }\n",
       "\n",
       "    .dataframe thead th {\n",
       "        text-align: right;\n",
       "    }\n",
       "</style>\n",
       "<table border=\"1\" class=\"dataframe\">\n",
       "  <thead>\n",
       "    <tr style=\"text-align: right;\">\n",
       "      <th></th>\n",
       "      <th>model</th>\n",
       "      <th>best estimator</th>\n",
       "      <th>best score</th>\n",
       "    </tr>\n",
       "  </thead>\n",
       "  <tbody>\n",
       "    <tr>\n",
       "      <th>0</th>\n",
       "      <td>RandomForest</td>\n",
       "      <td>(DecisionTreeClassifier(max_depth=5, max_featu...</td>\n",
       "      <td>0.936723</td>\n",
       "    </tr>\n",
       "    <tr>\n",
       "      <th>1</th>\n",
       "      <td>LogisticRegression</td>\n",
       "      <td>LogisticRegression(C=0.1)</td>\n",
       "      <td>0.928578</td>\n",
       "    </tr>\n",
       "    <tr>\n",
       "      <th>2</th>\n",
       "      <td>DecisionTreeClassifier</td>\n",
       "      <td>DecisionTreeClassifier(max_depth=5, max_featur...</td>\n",
       "      <td>0.932616</td>\n",
       "    </tr>\n",
       "    <tr>\n",
       "      <th>3</th>\n",
       "      <td>XGBoost</td>\n",
       "      <td>XGBClassifier(max_depth=5, n_estimators=180)</td>\n",
       "      <td>0.991782</td>\n",
       "    </tr>\n",
       "  </tbody>\n",
       "</table>\n",
       "</div>"
      ],
      "text/plain": [
       "                    model                                     best estimator  \\\n",
       "0            RandomForest  (DecisionTreeClassifier(max_depth=5, max_featu...   \n",
       "1      LogisticRegression                          LogisticRegression(C=0.1)   \n",
       "2  DecisionTreeClassifier  DecisionTreeClassifier(max_depth=5, max_featur...   \n",
       "3                 XGBoost       XGBClassifier(max_depth=5, n_estimators=180)   \n",
       "\n",
       "   best score  \n",
       "0    0.936723  \n",
       "1    0.928578  \n",
       "2    0.932616  \n",
       "3    0.991782  "
      ]
     },
     "execution_count": 14,
     "metadata": {},
     "output_type": "execute_result"
    }
   ],
   "source": [
    "tuning = pd.DataFrame(data={'model':estimators, 'best estimator':best_estimators,\n",
    "                             'best score':best_scores})\n",
    "tuning"
   ]
  },
  {
   "cell_type": "markdown",
   "metadata": {},
   "source": [
    "- cross-validation"
   ]
  },
  {
   "cell_type": "code",
   "execution_count": 18,
   "metadata": {},
   "outputs": [],
   "source": [
    "all_scores = []\n",
    "for estim in best_estimators:\n",
    "    pipeline = imbalanced_make_pipeline(over, under, estim)\n",
    "    all_scores.append(cross_val_score(pipeline, X_origin_train, y_origin_train, cv=5, scoring='balanced_accuracy'))"
   ]
  },
  {
   "cell_type": "code",
   "execution_count": 19,
   "metadata": {},
   "outputs": [
    {
     "data": {
      "image/png": "[encoded data removed]",
      "text/plain": [
       "<Figure size 432x288 with 1 Axes>"
      ]
     },
     "metadata": {
      "needs_background": "light"
     },
     "output_type": "display_data"
    }
   ],
   "source": [
    "entries = []\n",
    "for i in range(0, len(all_scores)):\n",
    "    for score in all_scores[i]:\n",
    "        entries.append((models[i], score))\n",
    "        \n",
    "cv_df = pd.DataFrame(entries, columns=['model','accuracy'])\n",
    "\n",
    "    \n",
    "sns.boxplot(x='model', y='accuracy', data=cv_df)\n",
    "sns.stripplot(x='model', y='accuracy', data=cv_df, \n",
    "                          size=8, jitter=True, edgecolor=\"gray\", linewidth=2)\n",
    "plt.show()"
   ]
  },
  {
   "cell_type": "code",
   "execution_count": null,
   "metadata": {},
   "outputs": [],
   "source": []
  },
  {
   "cell_type": "code",
   "execution_count": null,
   "metadata": {},
   "outputs": [],
   "source": []
  },
  {
   "cell_type": "markdown",
   "metadata": {},
   "source": [
    "- testing"
   ]
  },
  {
   "cell_type": "code",
   "execution_count": 20,
   "metadata": {},
   "outputs": [
    {
     "name": "stdout",
     "output_type": "stream",
     "text": [
      "RandomForestClassifier\n",
      "              precision    recall  f1-score   support\n",
      "\n",
      "           0       1.00      1.00      1.00     56864\n",
      "           1       0.32      0.89      0.47        98\n",
      "\n",
      "    accuracy                           1.00     56962\n",
      "   macro avg       0.66      0.94      0.73     56962\n",
      "weighted avg       1.00      1.00      1.00     56962\n",
      "\n"
     ]
    },
    {
     "data": {
      "image/png": "[encoded data removed]",
      "text/plain": [
       "<Figure size 432x288 with 2 Axes>"
      ]
     },
     "metadata": {
      "needs_background": "light"
     },
     "output_type": "display_data"
    },
    {
     "name": "stdout",
     "output_type": "stream",
     "text": [
      "------------------------------\n",
      "LogisticRegression\n",
      "              precision    recall  f1-score   support\n",
      "\n",
      "           0       1.00      0.98      0.99     56864\n",
      "           1       0.07      0.91      0.12        98\n",
      "\n",
      "    accuracy                           0.98     56962\n",
      "   macro avg       0.53      0.94      0.56     56962\n",
      "weighted avg       1.00      0.98      0.99     56962\n",
      "\n"
     ]
    },
    {
     "data": {
      "image/png": "[encoded data removed]",
      "text/plain": [
       "<Figure size 432x288 with 2 Axes>"
      ]
     },
     "metadata": {
      "needs_background": "light"
     },
     "output_type": "display_data"
    },
    {
     "name": "stdout",
     "output_type": "stream",
     "text": [
      "------------------------------\n",
      "DecisionTreeClassifier\n",
      "              precision    recall  f1-score   support\n",
      "\n",
      "           0       1.00      0.96      0.98     56864\n",
      "           1       0.04      0.89      0.07        98\n",
      "\n",
      "    accuracy                           0.96     56962\n",
      "   macro avg       0.52      0.92      0.53     56962\n",
      "weighted avg       1.00      0.96      0.98     56962\n",
      "\n"
     ]
    },
    {
     "data": {
      "image/png": "[encoded data removed]",
      "text/plain": [
       "<Figure size 432x288 with 2 Axes>"
      ]
     },
     "metadata": {
      "needs_background": "light"
     },
     "output_type": "display_data"
    },
    {
     "name": "stdout",
     "output_type": "stream",
     "text": [
      "------------------------------\n",
      "XGBClassifier\n",
      "              precision    recall  f1-score   support\n",
      "\n",
      "           0       1.00      0.99      1.00     56864\n",
      "           1       0.22      0.89      0.35        98\n",
      "\n",
      "    accuracy                           0.99     56962\n",
      "   macro avg       0.61      0.94      0.67     56962\n",
      "weighted avg       1.00      0.99      1.00     56962\n",
      "\n"
     ]
    },
    {
     "data": {
      "image/png": "[encoded data removed]",
      "text/plain": [
       "<Figure size 432x288 with 2 Axes>"
      ]
     },
     "metadata": {
      "needs_background": "light"
     },
     "output_type": "display_data"
    },
    {
     "name": "stdout",
     "output_type": "stream",
     "text": [
      "------------------------------\n"
     ]
    }
   ],
   "source": [
    "\n",
    "for estim in best_estimators:\n",
    "    print(estim.__class__.__name__)\n",
    "    pipeline = imbalanced_make_pipeline(over, under, estim)\n",
    "    pipeline.fit(X_origin_train, y_origin_train)\n",
    "    y_pred = pipeline.predict(X_test)\n",
    "    print(classification_report(y_test, y_pred))\n",
    "    conf = confusion_matrix(y_test, y_pred)\n",
    "    sns.heatmap(conf,annot=True,fmt='2.0f')\n",
    "    plt.show()\n",
    "    print('-'*30)\n",
    "    \n",
    "    "
   ]
  },
  {
   "cell_type": "code",
   "execution_count": null,
   "metadata": {},
   "outputs": [],
   "source": []
  },
  {
   "cell_type": "code",
   "execution_count": null,
   "metadata": {},
   "outputs": [],
   "source": []
  }
 ],
 "metadata": {
  "kernelspec": {
   "display_name": "Python 3",
   "language": "python",
   "name": "python3"
  },
  "language_info": {
   "codemirror_mode": {
    "name": "ipython",
    "version": 3
   },
   "file_extension": ".py",
   "mimetype": "text/x-python",
   "name": "python",
   "nbconvert_exporter": "python",
   "pygments_lexer": "ipython3",
   "version": "3.7.9"
  }
 },
 "nbformat": 4,
 "nbformat_minor": 4
}
