{
  "nbformat": 4,
  "nbformat_minor": 0,
  "metadata": {
    "kernelspec": {
      "display_name": "Python 3",
      "language": "python",
      "name": "python3"
    },
    "language_info": {
      "codemirror_mode": {
        "name": "ipython",
        "version": 3
      },
      "file_extension": ".py",
      "mimetype": "text/x-python",
      "name": "python",
      "nbconvert_exporter": "python",
      "pygments_lexer": "ipython3",
      "version": "3.7.9"
    },
    "colab": {
      "name": "model_building_V3.ipynb",
      "provenance": []
    }
  },
  "cells": [
    {
      "cell_type": "markdown",
      "metadata": {
        "id": "sZe9rIGQ8-9L"
      },
      "source": [
        "# <center> Credit Card Fraud Detection: MODEL BUILDING </center>"
      ]
    },
    {
      "cell_type": "code",
      "metadata": {
        "id": "LWs2d7XL8_QZ"
      },
      "source": [
        "import pandas as pd\n",
        "import matplotlib.pyplot as plt\n",
        "import seaborn as sns\n",
        "import numpy as np\n",
        "import warnings\n",
        "warnings.filterwarnings(\"ignore\")"
      ],
      "execution_count": 1,
      "outputs": []
    },
    {
      "cell_type": "code",
      "metadata": {
        "id": "_V5w9SXl9GKS",
        "colab": {
          "base_uri": "https://localhost:8080/"
        },
        "outputId": "567a322f-f1b5-4690-db78-0f949757f5b0"
      },
      "source": [
        "from google.colab import drive\n",
        "drive.mount(\"/content/gdrive\")"
      ],
      "execution_count": 2,
      "outputs": [
        {
          "output_type": "stream",
          "text": [
            "Mounted at /content/gdrive\n"
          ],
          "name": "stdout"
        }
      ]
    },
    {
      "cell_type": "markdown",
      "metadata": {
        "id": "IPEuFFGR8dQE"
      },
      "source": [
        "<b>Plan :</b>\n",
        "\n",
        "- I - Resample & split data.\n",
        "- II - First tests.\n",
        "- III - Fine tuning.\n",
        "- IV - Cross-validation.\n",
        "- V - Final test."
      ]
    },
    {
      "cell_type": "markdown",
      "metadata": {
        "id": "bocRcRBZ8dQF"
      },
      "source": [
        "<b>Choses à faire:</b>\n",
        "\n",
        "- Ajouter barplot pour comparer les modèles.\n",
        "- Expliquer pourquoi on undersample et oversample ( le papier).\n",
        "- Expliquer pourquoi resample durant la cross validation.\n"
      ]
    },
    {
      "cell_type": "code",
      "metadata": {
        "id": "T-HqraVk8dQG"
      },
      "source": [
        "df_origin_train =  pd.read_csv('/content/gdrive/MyDrive/DS_project/dataset/credit_card_fraud/train_set.csv')\n",
        "df_test =  pd.read_csv('/content/gdrive/MyDrive/DS_project/dataset/credit_card_fraud/test_set.csv')"
      ],
      "execution_count": 3,
      "outputs": []
    },
    {
      "cell_type": "code",
      "metadata": {
        "id": "MHJdqmHs8dQG"
      },
      "source": [
        "X_origin_train = df_origin_train.drop(columns=['Class'])\n",
        "y_origin_train = df_origin_train['Class']\n",
        "\n",
        "X_test = df_test.drop(columns=['Class'])\n",
        "y_test = df_test['Class']"
      ],
      "execution_count": 4,
      "outputs": []
    },
    {
      "cell_type": "code",
      "metadata": {
        "id": "6DYboVFB8dQG"
      },
      "source": [
        "\n"
      ],
      "execution_count": null,
      "outputs": []
    },
    {
      "cell_type": "code",
      "metadata": {
        "id": "Gn5OEAAD8dQH"
      },
      "source": [
        "from sklearn.model_selection import train_test_split\n",
        "# model\n",
        "from sklearn.linear_model import LogisticRegression, Perceptron\n",
        "from sklearn.neighbors import KNeighborsClassifier\n",
        "from sklearn.tree import DecisionTreeClassifier\n",
        "from sklearn.ensemble import RandomForestClassifier\n",
        "from xgboost import XGBClassifier\n",
        "\n",
        "from sklearn.model_selection import cross_val_score, learning_curve\n",
        "\n",
        "from sklearn.metrics import accuracy_score, balanced_accuracy_score, precision_score, recall_score, classification_report, confusion_matrix\n",
        "\n",
        "from imblearn.under_sampling import NearMiss\n",
        "from imblearn.over_sampling import SMOTE\n",
        "from sklearn.pipeline import make_pipeline\n",
        "from imblearn.pipeline import make_pipeline as imbalanced_make_pipeline\n",
        "from imblearn.under_sampling import RandomUnderSampler\n",
        "from imblearn.over_sampling import RandomOverSampler"
      ],
      "execution_count": 11,
      "outputs": []
    },
    {
      "cell_type": "markdown",
      "metadata": {
        "id": "3841IsW58dQI"
      },
      "source": [
        "The challenge of working with Imbalanced datasets is that most ML techniques will ignore the minority class (or classes), and will in turn perform poorly on the minority class (or classes), although it is usually the performance on the minority class that is most important.\n",
        "\n",
        "One approach to deal with unbalanced data sets is to oversample (oversample) the minority class(es):\n",
        "- The simplest approach is to duplicate examples in the minority class, although these examples do not add any new information to the model.\n",
        "- Instead, new examples can be synthesized from the existing examples. This is a type of data augmentation for the minority class(es) and is called Synthetic Minority Oversampling TEchnique, or SMOTE for short.\n",
        "\n",
        "\n",
        "- How does SMOTE work?\n",
        "    - SMOTE works by selecting examples that are close in variable space, drawing a line between the examples in variable space and drawing a new sample at a point along that line.\n",
        "    - Specifically, a random example of the minority class is first selected. Then k of the closest neighbors is found. A randomly selected neighbor is chosen and a synthetic example is created at a point randomly selected between the two examples in the variable space.\n",
        "\n",
        "- This procedure can be used to create as many synthetic examples for the minority class as necessary. As described in the paper below, it suggests using random undersampling first to reduce the number of examples in the majority class, and then using SMOTE to oversample the minority class to balance the class distribution.\n",
        "\n",
        "- One could think that it is sufficient to perform these methods on the dataset once, before using it in our models. However, this is not what we are going to do, as this can cause a lot of problems, especially during validation. We will explain our methodology using SMOTE as we go along."
      ]
    },
    {
      "cell_type": "code",
      "metadata": {
        "id": "iQ6LxUkt8dQI"
      },
      "source": [
        "over = SMOTE(sampling_strategy=0.2)\n",
        "under = RandomUnderSampler(sampling_strategy=0.6)\n",
        "\n",
        "X_train_resampled, y_train_resampled = over.fit_sample(X_origin_train, y_origin_train)\n",
        "X_train_resampled, y_train_resampled = under.fit_sample(X_train_resampled, y_train_resampled)\n"
      ],
      "execution_count": 6,
      "outputs": []
    },
    {
      "cell_type": "code",
      "metadata": {
        "id": "O4yEZ-QP8dQJ"
      },
      "source": [
        "X_train, X_valid, y_train, y_valid = train_test_split(X_train_resampled, y_train_resampled, test_size=0.2, random_state=42)"
      ],
      "execution_count": 7,
      "outputs": []
    },
    {
      "cell_type": "markdown",
      "metadata": {
        "id": "s0FN0REv_nYd"
      },
      "source": [
        "#I - Test firsts model"
      ]
    },
    {
      "cell_type": "code",
      "metadata": {
        "id": "-Lmzo9UJ8dQK"
      },
      "source": [
        "classifiers = {\n",
        "    \"RandomForest\": RandomForestClassifier(),\n",
        "    \"DecisionTreeClassifier\": DecisionTreeClassifier(),\n",
        "    \"XGBoost\":XGBClassifier(),\n",
        "    \"LogisticRegression\": LogisticRegression(),\n",
        "    \"Perceptron\": Perceptron(),\n",
        "    \"KNN\":KNeighborsClassifier()\n",
        "\n",
        "}"
      ],
      "execution_count": null,
      "outputs": []
    },
    {
      "cell_type": "code",
      "metadata": {
        "id": "rsYQxG5y8dQK"
      },
      "source": [
        "models = []\n",
        "train_scores = []\n",
        "valid_scores = []\n",
        "valid_precision_scores = []\n",
        "valid_recall_scores = []"
      ],
      "execution_count": null,
      "outputs": []
    },
    {
      "cell_type": "code",
      "metadata": {
        "id": "v_Hc19dD8dQL",
        "colab": {
          "base_uri": "https://localhost:8080/"
        },
        "outputId": "91356590-7d9d-472d-bcaf-61c1912d04db"
      },
      "source": [
        "for key, classifier in classifiers.items():\n",
        "    print('training with ' + key + ' ...')\n",
        "   \n",
        "    classifier.fit(X_train, y_train)\n",
        "    \n",
        "    models.append(key)\n",
        "    train_scores.append(classifier.score(X_train, y_train))\n",
        "    \n",
        "    y_pred = classifier.predict(X_valid)\n",
        "\n",
        "    valid_scores.append(accuracy_score(y_pred, y_valid))\n",
        "    valid_precision_scores.append(precision_score(y_valid, y_pred))\n",
        "    valid_recall_scores.append(recall_score(y_valid, y_pred))\n",
        "    \n",
        "    "
      ],
      "execution_count": null,
      "outputs": [
        {
          "output_type": "stream",
          "text": [
            "training with RandomForest ...\n",
            "training with DecisionTreeClassifier ...\n",
            "training with XGBoost ...\n",
            "training with LogisticRegression ...\n",
            "training with Perceptron ...\n",
            "training with KNN ...\n"
          ],
          "name": "stdout"
        }
      ]
    },
    {
      "cell_type": "code",
      "metadata": {
        "id": "4gzr7x6N8dQL",
        "colab": {
          "base_uri": "https://localhost:8080/",
          "height": 235
        },
        "outputId": "22a4d880-e700-4f13-bd28-ded20a942c3a"
      },
      "source": [
        "results = pd.DataFrame(data={'model':models, 'training score':train_scores,\n",
        "                             'validation accuracy':valid_scores,\n",
        "                             'validation precision':valid_precision_scores,\n",
        "                            'validation recall':valid_recall_scores})\n",
        "results"
      ],
      "execution_count": null,
      "outputs": [
        {
          "output_type": "execute_result",
          "data": {
            "text/html": [
              "<div>\n",
              "<style scoped>\n",
              "    .dataframe tbody tr th:only-of-type {\n",
              "        vertical-align: middle;\n",
              "    }\n",
              "\n",
              "    .dataframe tbody tr th {\n",
              "        vertical-align: top;\n",
              "    }\n",
              "\n",
              "    .dataframe thead th {\n",
              "        text-align: right;\n",
              "    }\n",
              "</style>\n",
              "<table border=\"1\" class=\"dataframe\">\n",
              "  <thead>\n",
              "    <tr style=\"text-align: right;\">\n",
              "      <th></th>\n",
              "      <th>model</th>\n",
              "      <th>training score</th>\n",
              "      <th>validation accuracy</th>\n",
              "      <th>validation precision</th>\n",
              "      <th>validation recall</th>\n",
              "    </tr>\n",
              "  </thead>\n",
              "  <tbody>\n",
              "    <tr>\n",
              "      <th>0</th>\n",
              "      <td>RandomForest</td>\n",
              "      <td>1.000000</td>\n",
              "      <td>0.998805</td>\n",
              "      <td>0.998491</td>\n",
              "      <td>0.998260</td>\n",
              "    </tr>\n",
              "    <tr>\n",
              "      <th>1</th>\n",
              "      <td>DecisionTreeClassifier</td>\n",
              "      <td>1.000000</td>\n",
              "      <td>0.992831</td>\n",
              "      <td>0.987651</td>\n",
              "      <td>0.992923</td>\n",
              "    </tr>\n",
              "    <tr>\n",
              "      <th>2</th>\n",
              "      <td>XGBoost</td>\n",
              "      <td>0.963492</td>\n",
              "      <td>0.962361</td>\n",
              "      <td>0.977416</td>\n",
              "      <td>0.918900</td>\n",
              "    </tr>\n",
              "    <tr>\n",
              "      <th>3</th>\n",
              "      <td>LogisticRegression</td>\n",
              "      <td>0.938185</td>\n",
              "      <td>0.939359</td>\n",
              "      <td>0.964627</td>\n",
              "      <td>0.866922</td>\n",
              "    </tr>\n",
              "    <tr>\n",
              "      <th>4</th>\n",
              "      <td>Perceptron</td>\n",
              "      <td>0.908409</td>\n",
              "      <td>0.909956</td>\n",
              "      <td>0.838482</td>\n",
              "      <td>0.935375</td>\n",
              "    </tr>\n",
              "    <tr>\n",
              "      <th>5</th>\n",
              "      <td>KNN</td>\n",
              "      <td>0.996767</td>\n",
              "      <td>0.995391</td>\n",
              "      <td>0.987625</td>\n",
              "      <td>1.000000</td>\n",
              "    </tr>\n",
              "  </tbody>\n",
              "</table>\n",
              "</div>"
            ],
            "text/plain": [
              "                    model  ...  validation recall\n",
              "0            RandomForest  ...           0.998260\n",
              "1  DecisionTreeClassifier  ...           0.992923\n",
              "2                 XGBoost  ...           0.918900\n",
              "3      LogisticRegression  ...           0.866922\n",
              "4              Perceptron  ...           0.935375\n",
              "5                     KNN  ...           1.000000\n",
              "\n",
              "[6 rows x 5 columns]"
            ]
          },
          "metadata": {
            "tags": []
          },
          "execution_count": 14
        }
      ]
    },
    {
      "cell_type": "markdown",
      "metadata": {
        "id": "m7__1BtC8dQM"
      },
      "source": [
        "- faire des barplots"
      ]
    },
    {
      "cell_type": "markdown",
      "metadata": {
        "id": "Fzjrcnde8dQM"
      },
      "source": [
        "# II - Fine Tuning."
      ]
    },
    {
      "cell_type": "code",
      "metadata": {
        "id": "q3Ai716X8dQN"
      },
      "source": [
        "from sklearn.model_selection import GridSearchCV"
      ],
      "execution_count": null,
      "outputs": []
    },
    {
      "cell_type": "code",
      "metadata": {
        "id": "1AZQieAf8dQN"
      },
      "source": [
        "\n",
        "params_classifiers = {\n",
        "    \"RandomForest\": [{'n_estimators':[50, 100, 150],'max_depth':range(8, 15, 2 ),\n",
        "               'max_features':['auto','sqrt','log2'], 'criterion':['gini','entropy']}],\n",
        "    \n",
        "    \"DecisionTreeClassifier\": [{'criterion':['gini','entropy'],'splitter':['best', 'random'],'max_depth':range(2, 20 ),\n",
        "               'max_features':['auto','sqrt','log2']}],\n",
        "    \n",
        "    \"LogisticRegression\": [{'max_iter':range(100,800,100),'C': [ .01, .1, 1., 10., 100. ]}],\n",
        "    \"XGBoost\": [{'max_depth': range(1,8,1),'n_estimators': [20, 60, 100, 150],\n",
        "    'learning_rate': [0.005,0.025, 0.075, 0.25, 0.75]}],\n",
        "\n",
        "    \"Perceptron\":[{'penalty':['l2','l1','elasticnet'], 'alpha':[.00001, .0001, .001, .01, .1], 'tol':[.0001, .001, .01]}],\n",
        "                  \n",
        "                  \"KNN\":[{'n_neighbors':range(2, 13), 'weights':['uniform', 'distance'],\n",
        "                          'algorithm':['auto', 'ball_tree', 'kd_tree', 'brute']}]\n",
        "    \n",
        "}\n",
        "\n"
      ],
      "execution_count": null,
      "outputs": []
    },
    {
      "cell_type": "code",
      "metadata": {
        "id": "E1UrfM9h8dQN",
        "colab": {
          "base_uri": "https://localhost:8080/"
        },
        "outputId": "88f907d7-81b0-49ff-d316-5214aa5e2e2a"
      },
      "source": [
        "estimators = []\n",
        "best_estimators = []\n",
        "best_scores = []\n",
        "for key, classifier in classifiers.items():\n",
        "    print(key + ' tuning...')\n",
        "    estimators.append(key)\n",
        "    \n",
        "    grid = GridSearchCV(classifier, params_classifiers[key],cv=3, scoring = 'balanced_accuracy', verbose=3, n_jobs=-1)\n",
        "    grid.fit(X_train_resampled, y_train_resampled)\n",
        "    \n",
        "    best_estimators.append(grid.best_estimator_)\n",
        "    best_scores.append(grid.best_score_)"
      ],
      "execution_count": null,
      "outputs": [
        {
          "output_type": "stream",
          "text": [
            "RandomForest tuning...\n",
            "Fitting 3 folds for each of 72 candidates, totalling 216 fits\n"
          ],
          "name": "stdout"
        },
        {
          "output_type": "stream",
          "text": [
            "[Parallel(n_jobs=-1)]: Using backend LokyBackend with 2 concurrent workers.\n",
            "[Parallel(n_jobs=-1)]: Done  28 tasks      | elapsed:  7.2min\n",
            "[Parallel(n_jobs=-1)]: Done 124 tasks      | elapsed: 37.9min\n",
            "[Parallel(n_jobs=-1)]: Done 216 out of 216 | elapsed: 76.2min finished\n"
          ],
          "name": "stderr"
        },
        {
          "output_type": "stream",
          "text": [
            "DecisionTreeClassifier tuning...\n",
            "Fitting 3 folds for each of 216 candidates, totalling 648 fits\n"
          ],
          "name": "stdout"
        },
        {
          "output_type": "stream",
          "text": [
            "[Parallel(n_jobs=-1)]: Using backend LokyBackend with 2 concurrent workers.\n",
            "[Parallel(n_jobs=-1)]: Done  28 tasks      | elapsed:    2.6s\n",
            "[Parallel(n_jobs=-1)]: Done 124 tasks      | elapsed:   15.6s\n",
            "[Parallel(n_jobs=-1)]: Done 284 tasks      | elapsed:   48.0s\n",
            "[Parallel(n_jobs=-1)]: Done 508 tasks      | elapsed:  1.5min\n",
            "[Parallel(n_jobs=-1)]: Done 648 out of 648 | elapsed:  2.1min finished\n"
          ],
          "name": "stderr"
        },
        {
          "output_type": "stream",
          "text": [
            "XGBoost tuning...\n",
            "Fitting 3 folds for each of 140 candidates, totalling 420 fits\n"
          ],
          "name": "stdout"
        },
        {
          "output_type": "stream",
          "text": [
            "[Parallel(n_jobs=-1)]: Using backend LokyBackend with 2 concurrent workers.\n",
            "[Parallel(n_jobs=-1)]: Done  28 tasks      | elapsed:  1.4min\n",
            "[Parallel(n_jobs=-1)]: Done 124 tasks      | elapsed: 12.5min\n",
            "[Parallel(n_jobs=-1)]: Done 284 tasks      | elapsed: 31.4min\n",
            "[Parallel(n_jobs=-1)]: Done 420 out of 420 | elapsed: 48.0min finished\n"
          ],
          "name": "stderr"
        },
        {
          "output_type": "stream",
          "text": [
            "LogisticRegression tuning...\n",
            "Fitting 3 folds for each of 35 candidates, totalling 105 fits\n"
          ],
          "name": "stdout"
        },
        {
          "output_type": "stream",
          "text": [
            "[Parallel(n_jobs=-1)]: Using backend LokyBackend with 2 concurrent workers.\n",
            "[Parallel(n_jobs=-1)]: Done  28 tasks      | elapsed:    5.1s\n",
            "[Parallel(n_jobs=-1)]: Done 105 out of 105 | elapsed:   19.7s finished\n"
          ],
          "name": "stderr"
        },
        {
          "output_type": "stream",
          "text": [
            "Perceptron tuning...\n",
            "Fitting 3 folds for each of 45 candidates, totalling 135 fits\n"
          ],
          "name": "stdout"
        },
        {
          "output_type": "stream",
          "text": [
            "[Parallel(n_jobs=-1)]: Using backend LokyBackend with 2 concurrent workers.\n",
            "[Parallel(n_jobs=-1)]: Done  28 tasks      | elapsed:    4.7s\n",
            "[Parallel(n_jobs=-1)]: Done 124 tasks      | elapsed:   18.2s\n",
            "[Parallel(n_jobs=-1)]: Done 135 out of 135 | elapsed:   19.8s finished\n"
          ],
          "name": "stderr"
        },
        {
          "output_type": "stream",
          "text": [
            "KNN tuning...\n",
            "Fitting 3 folds for each of 88 candidates, totalling 264 fits\n"
          ],
          "name": "stdout"
        },
        {
          "output_type": "stream",
          "text": [
            "[Parallel(n_jobs=-1)]: Using backend LokyBackend with 2 concurrent workers.\n",
            "[Parallel(n_jobs=-1)]: Done  28 tasks      | elapsed:  1.7min\n",
            "[Parallel(n_jobs=-1)]: Done 124 tasks      | elapsed: 40.0min\n",
            "/usr/local/lib/python3.6/dist-packages/joblib/externals/loky/process_executor.py:691: UserWarning: A worker stopped while some jobs were given to the executor. This can be caused by a too short worker timeout or by a memory leak.\n",
            "  \"timeout or by a memory leak.\", UserWarning\n",
            "[Parallel(n_jobs=-1)]: Done 264 out of 264 | elapsed: 90.1min finished\n"
          ],
          "name": "stderr"
        }
      ]
    },
    {
      "cell_type": "code",
      "metadata": {
        "id": "SH3BsB_28dQO",
        "colab": {
          "base_uri": "https://localhost:8080/",
          "height": 235
        },
        "outputId": "90dcbb59-f89b-407c-83f1-23012ba98ce5"
      },
      "source": [
        "tuning = pd.DataFrame(data={'model':estimators, 'best estimator':best_estimators,\n",
        "                             'best score':best_scores})\n",
        "tuning"
      ],
      "execution_count": null,
      "outputs": [
        {
          "output_type": "execute_result",
          "data": {
            "text/html": [
              "<div>\n",
              "<style scoped>\n",
              "    .dataframe tbody tr th:only-of-type {\n",
              "        vertical-align: middle;\n",
              "    }\n",
              "\n",
              "    .dataframe tbody tr th {\n",
              "        vertical-align: top;\n",
              "    }\n",
              "\n",
              "    .dataframe thead th {\n",
              "        text-align: right;\n",
              "    }\n",
              "</style>\n",
              "<table border=\"1\" class=\"dataframe\">\n",
              "  <thead>\n",
              "    <tr style=\"text-align: right;\">\n",
              "      <th></th>\n",
              "      <th>model</th>\n",
              "      <th>best estimator</th>\n",
              "      <th>best score</th>\n",
              "    </tr>\n",
              "  </thead>\n",
              "  <tbody>\n",
              "    <tr>\n",
              "      <th>0</th>\n",
              "      <td>RandomForest</td>\n",
              "      <td>(DecisionTreeClassifier(ccp_alpha=0.0, class_w...</td>\n",
              "      <td>0.994752</td>\n",
              "    </tr>\n",
              "    <tr>\n",
              "      <th>1</th>\n",
              "      <td>DecisionTreeClassifier</td>\n",
              "      <td>DecisionTreeClassifier(ccp_alpha=0.0, class_we...</td>\n",
              "      <td>0.991251</td>\n",
              "    </tr>\n",
              "    <tr>\n",
              "      <th>2</th>\n",
              "      <td>XGBoost</td>\n",
              "      <td>XGBClassifier(base_score=0.5, booster='gbtree'...</td>\n",
              "      <td>0.998418</td>\n",
              "    </tr>\n",
              "    <tr>\n",
              "      <th>3</th>\n",
              "      <td>LogisticRegression</td>\n",
              "      <td>LogisticRegression(C=0.01, class_weight=None, ...</td>\n",
              "      <td>0.924025</td>\n",
              "    </tr>\n",
              "    <tr>\n",
              "      <th>4</th>\n",
              "      <td>Perceptron</td>\n",
              "      <td>Perceptron(alpha=0.0001, class_weight=None, ea...</td>\n",
              "      <td>0.918072</td>\n",
              "    </tr>\n",
              "    <tr>\n",
              "      <th>5</th>\n",
              "      <td>KNN</td>\n",
              "      <td>KNeighborsClassifier(algorithm='auto', leaf_si...</td>\n",
              "      <td>0.998218</td>\n",
              "    </tr>\n",
              "  </tbody>\n",
              "</table>\n",
              "</div>"
            ],
            "text/plain": [
              "                    model  ... best score\n",
              "0            RandomForest  ...   0.994752\n",
              "1  DecisionTreeClassifier  ...   0.991251\n",
              "2                 XGBoost  ...   0.998418\n",
              "3      LogisticRegression  ...   0.924025\n",
              "4              Perceptron  ...   0.918072\n",
              "5                     KNN  ...   0.998218\n",
              "\n",
              "[6 rows x 3 columns]"
            ]
          },
          "metadata": {
            "tags": []
          },
          "execution_count": 34
        }
      ]
    },
    {
      "cell_type": "code",
      "metadata": {
        "id": "hd5gn_1pDJx3",
        "colab": {
          "base_uri": "https://localhost:8080/"
        },
        "outputId": "bf1e8d27-00b7-4159-eea1-57ff48a948e7"
      },
      "source": [
        "print(best_estimators)"
      ],
      "execution_count": null,
      "outputs": [
        {
          "output_type": "stream",
          "text": [
            "[RandomForestClassifier(bootstrap=True, ccp_alpha=0.0, class_weight=None,\n",
            "                       criterion='entropy', max_depth=14, max_features='log2',\n",
            "                       max_leaf_nodes=None, max_samples=None,\n",
            "                       min_impurity_decrease=0.0, min_impurity_split=None,\n",
            "                       min_samples_leaf=1, min_samples_split=2,\n",
            "                       min_weight_fraction_leaf=0.0, n_estimators=50,\n",
            "                       n_jobs=None, oob_score=False, random_state=None,\n",
            "                       verbose=0, warm_start=False), DecisionTreeClassifier(ccp_alpha=0.0, class_weight=None, criterion='entropy',\n",
            "                       max_depth=19, max_features='auto', max_leaf_nodes=None,\n",
            "                       min_impurity_decrease=0.0, min_impurity_split=None,\n",
            "                       min_samples_leaf=1, min_samples_split=2,\n",
            "                       min_weight_fraction_leaf=0.0, presort='deprecated',\n",
            "                       random_state=None, splitter='best'), XGBClassifier(base_score=0.5, booster='gbtree', colsample_bylevel=1,\n",
            "              colsample_bynode=1, colsample_bytree=1, gamma=0,\n",
            "              learning_rate=0.75, max_delta_step=0, max_depth=7,\n",
            "              min_child_weight=1, missing=None, n_estimators=150, n_jobs=1,\n",
            "              nthread=None, objective='binary:logistic', random_state=0,\n",
            "              reg_alpha=0, reg_lambda=1, scale_pos_weight=1, seed=None,\n",
            "              silent=None, subsample=1, verbosity=1), LogisticRegression(C=0.01, class_weight=None, dual=False, fit_intercept=True,\n",
            "                   intercept_scaling=1, l1_ratio=None, max_iter=100,\n",
            "                   multi_class='auto', n_jobs=None, penalty='l2',\n",
            "                   random_state=None, solver='lbfgs', tol=0.0001, verbose=0,\n",
            "                   warm_start=False), Perceptron(alpha=0.0001, class_weight=None, early_stopping=False, eta0=1.0,\n",
            "           fit_intercept=True, max_iter=1000, n_iter_no_change=5, n_jobs=None,\n",
            "           penalty='l2', random_state=0, shuffle=True, tol=0.01,\n",
            "           validation_fraction=0.1, verbose=0, warm_start=False), KNeighborsClassifier(algorithm='auto', leaf_size=30, metric='minkowski',\n",
            "                     metric_params=None, n_jobs=None, n_neighbors=2, p=2,\n",
            "                     weights='uniform')]\n"
          ],
          "name": "stdout"
        }
      ]
    },
    {
      "cell_type": "code",
      "metadata": {
        "id": "6dvZTCJssm9k"
      },
      "source": [
        "best_estimators = [RandomForestClassifier(bootstrap=True, ccp_alpha=0.0, class_weight=None,\n",
        "                       criterion='entropy', max_depth=14, max_features='log2',\n",
        "                       max_leaf_nodes=None, max_samples=None,\n",
        "                       min_impurity_decrease=0.0, min_impurity_split=None,\n",
        "                       min_samples_leaf=1, min_samples_split=2,\n",
        "                       min_weight_fraction_leaf=0.0, n_estimators=50,\n",
        "                       n_jobs=None, oob_score=False, random_state=None,\n",
        "                       verbose=0, warm_start=False), DecisionTreeClassifier(ccp_alpha=0.0, class_weight=None, criterion='entropy',\n",
        "                       max_depth=19, max_features='auto', max_leaf_nodes=None,\n",
        "                       min_impurity_decrease=0.0, min_impurity_split=None,\n",
        "                       min_samples_leaf=1, min_samples_split=2,\n",
        "                       min_weight_fraction_leaf=0.0, presort='deprecated',\n",
        "                       random_state=None, splitter='best'), XGBClassifier(base_score=0.5, booster='gbtree', colsample_bylevel=1,\n",
        "              colsample_bynode=1, colsample_bytree=1, gamma=0,\n",
        "              learning_rate=0.75, max_delta_step=0, max_depth=7,\n",
        "              min_child_weight=1, missing=None, n_estimators=150, n_jobs=1,\n",
        "              nthread=None, objective='binary:logistic', random_state=0,\n",
        "              reg_alpha=0, reg_lambda=1, scale_pos_weight=1, seed=None,\n",
        "              silent=None, subsample=1, verbosity=1), LogisticRegression(C=0.01, class_weight=None, dual=False, fit_intercept=True,\n",
        "                   intercept_scaling=1, l1_ratio=None, max_iter=100,\n",
        "                   multi_class='auto', n_jobs=None, penalty='l2',\n",
        "                   random_state=None, solver='lbfgs', tol=0.0001, verbose=0,\n",
        "                   warm_start=False), Perceptron(alpha=0.0001, class_weight=None, early_stopping=False, eta0=1.0,\n",
        "           fit_intercept=True, max_iter=1000, n_iter_no_change=5, n_jobs=None,\n",
        "           penalty='l2', random_state=0, shuffle=True, tol=0.01,\n",
        "           validation_fraction=0.1, verbose=0, warm_start=False), KNeighborsClassifier(algorithm='auto', leaf_size=30, metric='minkowski',\n",
        "                     metric_params=None, n_jobs=None, n_neighbors=2, p=2,\n",
        "                     weights='uniform')]"
      ],
      "execution_count": 8,
      "outputs": []
    },
    {
      "cell_type": "markdown",
      "metadata": {
        "id": "1pVKIKIy8dQO"
      },
      "source": [
        "#III - cross-validation"
      ]
    },
    {
      "cell_type": "code",
      "metadata": {
        "id": "BSFMMyUA8dQO"
      },
      "source": [
        "all_scores = []\n",
        "for estim in best_estimators:\n",
        "    pipeline = imbalanced_make_pipeline(over, under, estim)\n",
        "    all_scores.append(cross_val_score(pipeline, X_origin_train.values, y_origin_train.values, cv=10, scoring='balanced_accuracy'))"
      ],
      "execution_count": 9,
      "outputs": []
    },
    {
      "cell_type": "code",
      "metadata": {
        "id": "jRUMIp608dQO",
        "colab": {
          "base_uri": "https://localhost:8080/",
          "height": 279
        },
        "outputId": "09d4dbbc-eddb-4f61-e824-8ddc3dfd4279"
      },
      "source": [
        "entries = []\n",
        "models = ['rfc', 'dtc', 'xgbc', 'lr', 'perc', 'KNNN']\n",
        "for i in range(0, len(all_scores)):\n",
        "    for score in all_scores[i]:\n",
        "        entries.append((models[i], score))\n",
        "        \n",
        "cv_df = pd.DataFrame(entries, columns=['model','accuracy'])\n",
        "\n",
        "    \n",
        "sns.boxplot(x='model', y='accuracy', data=cv_df)\n",
        "sns.stripplot(x='model', y='accuracy', data=cv_df, \n",
        "                          size=8, jitter=True, edgecolor=\"gray\", linewidth=2)\n",
        "plt.show()"
      ],
      "execution_count": 10,
      "outputs": [
        {
          "output_type": "display_data",
          "data": {
            "image/png": "[encoded data removed]",
            "text/plain": [
              "<Figure size 432x288 with 1 Axes>"
            ]
          },
          "metadata": {
            "tags": [],
            "needs_background": "light"
          }
        }
      ]
    },
    {
      "cell_type": "code",
      "metadata": {
        "id": "7UX_yRBa8dQP"
      },
      "source": [
        ""
      ],
      "execution_count": null,
      "outputs": []
    },
    {
      "cell_type": "code",
      "metadata": {
        "id": "mOoZ56g18dQP"
      },
      "source": [
        ""
      ],
      "execution_count": null,
      "outputs": []
    },
    {
      "cell_type": "markdown",
      "metadata": {
        "id": "xjR4COsv8dQP"
      },
      "source": [
        "IV - testing"
      ]
    },
    {
      "cell_type": "code",
      "metadata": {
        "id": "zKCozwQb8dQP",
        "colab": {
          "base_uri": "https://localhost:8080/",
          "height": 1000
        },
        "outputId": "cdb73af9-4df4-4465-96a5-bac7502ca422"
      },
      "source": [
        "\n",
        "for estim in best_estimators:\n",
        "    print(estim.__class__.__name__)\n",
        "    pipeline = imbalanced_make_pipeline(over, under, estim)\n",
        "    pipeline.fit(X_origin_train.values, y_origin_train.values)\n",
        "    y_pred = pipeline.predict(X_test.values)\n",
        "    print(classification_report(y_test.values, y_pred))\n",
        "    print(balanced_accuracy_score(y_pred, y_test))\n",
        "    conf = confusion_matrix(y_test.values, y_pred)\n",
        "    sns.heatmap(conf,annot=True,fmt='2.0f')\n",
        "    plt.show()\n",
        "    print('-'*30)\n",
        "    \n",
        "    "
      ],
      "execution_count": 13,
      "outputs": [
        {
          "output_type": "stream",
          "text": [
            "RandomForestClassifier\n",
            "              precision    recall  f1-score   support\n",
            "\n",
            "           0       1.00      1.00      1.00     56864\n",
            "           1       0.44      0.89      0.59        98\n",
            "\n",
            "    accuracy                           1.00     56962\n",
            "   macro avg       0.72      0.94      0.79     56962\n",
            "weighted avg       1.00      1.00      1.00     56962\n",
            "\n",
            "0.7184960707205672\n"
          ],
          "name": "stdout"
        },
        {
          "output_type": "display_data",
          "data": {
            "image/png": "[encoded data removed]",
            "text/plain": [
              "<Figure size 432x288 with 2 Axes>"
            ]
          },
          "metadata": {
            "tags": [],
            "needs_background": "light"
          }
        },
        {
          "output_type": "stream",
          "text": [
            "------------------------------\n",
            "DecisionTreeClassifier\n",
            "              precision    recall  f1-score   support\n",
            "\n",
            "           0       1.00      0.99      1.00     56864\n",
            "           1       0.16      0.81      0.26        98\n",
            "\n",
            "    accuracy                           0.99     56962\n",
            "   macro avg       0.58      0.90      0.63     56962\n",
            "weighted avg       1.00      0.99      0.99     56962\n",
            "\n",
            "0.5785169982485926\n"
          ],
          "name": "stdout"
        },
        {
          "output_type": "display_data",
          "data": {
            "image/png": "[encoded data removed]",
            "text/plain": [
              "<Figure size 432x288 with 2 Axes>"
            ]
          },
          "metadata": {
            "tags": [],
            "needs_background": "light"
          }
        },
        {
          "output_type": "stream",
          "text": [
            "------------------------------\n",
            "XGBClassifier\n",
            "              precision    recall  f1-score   support\n",
            "\n",
            "           0       1.00      1.00      1.00     56864\n",
            "           1       0.47      0.87      0.61        98\n",
            "\n",
            "    accuracy                           1.00     56962\n",
            "   macro avg       0.73      0.93      0.80     56962\n",
            "weighted avg       1.00      1.00      1.00     56962\n",
            "\n",
            "0.7346921549218715\n"
          ],
          "name": "stdout"
        },
        {
          "output_type": "display_data",
          "data": {
            "image/png": "[encoded data removed]",
            "text/plain": [
              "<Figure size 432x288 with 2 Axes>"
            ]
          },
          "metadata": {
            "tags": [],
            "needs_background": "light"
          }
        },
        {
          "output_type": "stream",
          "text": [
            "------------------------------\n",
            "LogisticRegression\n",
            "              precision    recall  f1-score   support\n",
            "\n",
            "           0       1.00      0.98      0.99     56864\n",
            "           1       0.06      0.92      0.12        98\n",
            "\n",
            "    accuracy                           0.98     56962\n",
            "   macro avg       0.53      0.95      0.55     56962\n",
            "weighted avg       1.00      0.98      0.99     56962\n",
            "\n",
            "0.5315958206806694\n"
          ],
          "name": "stdout"
        },
        {
          "output_type": "display_data",
          "data": {
            "image/png": "[encoded data removed]",
            "text/plain": [
              "<Figure size 432x288 with 2 Axes>"
            ]
          },
          "metadata": {
            "tags": [],
            "needs_background": "light"
          }
        },
        {
          "output_type": "stream",
          "text": [
            "------------------------------\n",
            "Perceptron\n",
            "              precision    recall  f1-score   support\n",
            "\n",
            "           0       1.00      0.93      0.96     56864\n",
            "           1       0.02      0.91      0.04        98\n",
            "\n",
            "    accuracy                           0.93     56962\n",
            "   macro avg       0.51      0.92      0.50     56962\n",
            "weighted avg       1.00      0.93      0.96     56962\n",
            "\n",
            "0.5105939103240904\n"
          ],
          "name": "stdout"
        },
        {
          "output_type": "display_data",
          "data": {
            "image/png": "[encoded data removed]",
            "text/plain": [
              "<Figure size 432x288 with 2 Axes>"
            ]
          },
          "metadata": {
            "tags": [],
            "needs_background": "light"
          }
        },
        {
          "output_type": "stream",
          "text": [
            "------------------------------\n",
            "KNeighborsClassifier\n",
            "              precision    recall  f1-score   support\n",
            "\n",
            "           0       1.00      1.00      1.00     56864\n",
            "           1       0.39      0.80      0.52        98\n",
            "\n",
            "    accuracy                           1.00     56962\n",
            "   macro avg       0.69      0.90      0.76     56962\n",
            "weighted avg       1.00      1.00      1.00     56962\n",
            "\n",
            "0.6938536734414291\n"
          ],
          "name": "stdout"
        },
        {
          "output_type": "display_data",
          "data": {
            "image/png": "[encoded data removed]",
            "text/plain": [
              "<Figure size 432x288 with 2 Axes>"
            ]
          },
          "metadata": {
            "tags": [],
            "needs_background": "light"
          }
        },
        {
          "output_type": "stream",
          "text": [
            "------------------------------\n"
          ],
          "name": "stdout"
        }
      ]
    }
  ]
}