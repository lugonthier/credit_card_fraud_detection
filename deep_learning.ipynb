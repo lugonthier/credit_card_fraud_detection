{
  "nbformat": 4,
  "nbformat_minor": 0,
  "metadata": {
    "colab": {
      "name": "deep_learning.ipynb",
      "provenance": [],
      "collapsed_sections": [],
      "authorship_tag": "ABX9TyPQN/hhuil0CC/EyQJY3qjk"
    },
    "kernelspec": {
      "name": "python3",
      "display_name": "Python 3"
    }
  },
  "cells": [
    {
      "cell_type": "markdown",
      "metadata": {
        "id": "pJbY7p3Sm8HY"
      },
      "source": [
        "#<center>DEEP LEARNING</center>"
      ]
    },
    {
      "cell_type": "code",
      "metadata": {
        "id": "FZxT4LjFnCsv"
      },
      "source": [
        "import pandas as pd\n",
        "import matplotlib.pyplot as plt\n",
        "import seaborn as sns\n",
        "import numpy as np\n",
        "#import warnings\n",
        "#warnings.filterwarnings(\"ignore\")"
      ],
      "execution_count": 44,
      "outputs": []
    },
    {
      "cell_type": "code",
      "metadata": {
        "colab": {
          "base_uri": "https://localhost:8080/"
        },
        "id": "-_pLG3GrnIQ-",
        "outputId": "9bb8f802-af12-4153-de22-a2a42a6c5c73"
      },
      "source": [
        "from google.colab import drive\n",
        "drive.mount(\"/content/gdrive\")"
      ],
      "execution_count": 45,
      "outputs": [
        {
          "output_type": "stream",
          "text": [
            "Drive already mounted at /content/gdrive; to attempt to forcibly remount, call drive.mount(\"/content/gdrive\", force_remount=True).\n"
          ],
          "name": "stdout"
        }
      ]
    },
    {
      "cell_type": "code",
      "metadata": {
        "id": "KF0dNaronMub"
      },
      "source": [
        "df_origin_train =  pd.read_csv('/content/gdrive/MyDrive/DS_project/dataset/credit_card_fraud/train_set.csv')\n",
        "df_test =  pd.read_csv('/content/gdrive/MyDrive/DS_project/dataset/credit_card_fraud/test_set.csv')"
      ],
      "execution_count": 46,
      "outputs": []
    },
    {
      "cell_type": "code",
      "metadata": {
        "id": "JJVd7_Kto880"
      },
      "source": [
        "from sklearn.model_selection import train_test_split\n",
        "from sklearn.preprocessing import MinMaxScaler"
      ],
      "execution_count": 47,
      "outputs": []
    },
    {
      "cell_type": "code",
      "metadata": {
        "id": "kIO-ubM5niCE"
      },
      "source": [
        "X_origin_train = df_origin_train.drop(columns=['Class'])\n",
        "y_origin_train = df_origin_train['Class']\n",
        "\n",
        "X_test = df_test.drop(columns=['Class'])\n",
        "y_test = df_test['Class']"
      ],
      "execution_count": 48,
      "outputs": []
    },
    {
      "cell_type": "code",
      "metadata": {
        "id": "j9XAf7QxRTOz"
      },
      "source": [
        "minmax = MinMaxScaler()\n",
        "X_origin_train = minmax.fit_transform(X_origin_train)\n",
        "\n",
        "X_test = minmax.transform(X_test)"
      ],
      "execution_count": 49,
      "outputs": []
    },
    {
      "cell_type": "code",
      "metadata": {
        "id": "rjpSJ5v_ow2Q"
      },
      "source": [
        "X_train, X_valid, y_train, y_valid = train_test_split(X_origin_train, y_origin_train, test_size=0.2, random_state=42)"
      ],
      "execution_count": 50,
      "outputs": []
    },
    {
      "cell_type": "markdown",
      "metadata": {
        "id": "XgoGTW34nvd7"
      },
      "source": [
        ""
      ]
    },
    {
      "cell_type": "markdown",
      "metadata": {
        "id": "oENuOrp4nvnn"
      },
      "source": [
        ""
      ]
    },
    {
      "cell_type": "code",
      "metadata": {
        "id": "BMPp5tx9nvwy"
      },
      "source": [
        "from tensorflow import keras\n",
        "from sklearn.metrics import accuracy_score, balanced_accuracy_score, confusion_matrix"
      ],
      "execution_count": 51,
      "outputs": []
    },
    {
      "cell_type": "code",
      "metadata": {
        "colab": {
          "base_uri": "https://localhost:8080/"
        },
        "id": "rrtSHdvBnv1R",
        "outputId": "eee01b9b-cf71-4285-c184-4eaf1b40d003"
      },
      "source": [
        "X_train.shape"
      ],
      "execution_count": 52,
      "outputs": [
        {
          "output_type": "execute_result",
          "data": {
            "text/plain": [
              "(175989, 10)"
            ]
          },
          "metadata": {
            "tags": []
          },
          "execution_count": 52
        }
      ]
    },
    {
      "cell_type": "code",
      "metadata": {
        "id": "fw1nrkN3oGU3"
      },
      "source": [
        "\n",
        "class_weight = {0: 1.,\n",
        "                1: 10.}"
      ],
      "execution_count": 53,
      "outputs": []
    },
    {
      "cell_type": "code",
      "metadata": {
        "id": "K7mY6i8NoQxI"
      },
      "source": [
        "model = keras.models.Sequential()\n",
        "model.add(keras.layers.Flatten(input_shape=[10]))\n",
        "\n",
        "model.add(keras.layers.Dense(10, activation=\"relu\"))\n",
        "\n",
        "model.add(keras.layers.Dense(1, activation=\"sigmoid\"))"
      ],
      "execution_count": 72,
      "outputs": []
    },
    {
      "cell_type": "markdown",
      "metadata": {
        "id": "2oo1ZtRbriQ3"
      },
      "source": [
        "- <b>Binary Crossentropy Loss:</b>\n",
        "    - Computes the cross-entropy loss between true labels and predicted labels.\n",
        "    - cross-entropy loss when there are only two label classes (assumed to be 0 and 1).\n",
        "\n",
        "- <b> BinaryAccuracy metric: </b>\n",
        "    - Calculates how often predictions match binary labels."
      ]
    },
    {
      "cell_type": "code",
      "metadata": {
        "id": "5QQAzCMKoi36"
      },
      "source": [
        "model.compile(loss=\"binary_crossentropy\", optimizer=\"adam\",  metrics=[\"BinaryAccuracy\"])"
      ],
      "execution_count": 73,
      "outputs": []
    },
    {
      "cell_type": "code",
      "metadata": {
        "colab": {
          "base_uri": "https://localhost:8080/"
        },
        "id": "ahFF5k3ionoI",
        "outputId": "c558a9d5-8041-4786-824e-871b33cea041"
      },
      "source": [
        "history = model.fit(X_train, y_train.to_numpy(), epochs=20, validation_data=(X_valid, y_valid.to_numpy()), class_weight=class_weight)"
      ],
      "execution_count": 74,
      "outputs": [
        {
          "output_type": "stream",
          "text": [
            "Epoch 1/20\n",
            "5500/5500 [==============================] - 8s 1ms/step - loss: 0.0892 - binary_accuracy: 0.9984 - val_loss: 0.0097 - val_binary_accuracy: 0.9991\n",
            "Epoch 2/20\n",
            "5500/5500 [==============================] - 7s 1ms/step - loss: 0.0272 - binary_accuracy: 0.9992 - val_loss: 0.0056 - val_binary_accuracy: 0.9995\n",
            "Epoch 3/20\n",
            "5500/5500 [==============================] - 7s 1ms/step - loss: 0.0258 - binary_accuracy: 0.9992 - val_loss: 0.0043 - val_binary_accuracy: 0.9995\n",
            "Epoch 4/20\n",
            "5500/5500 [==============================] - 7s 1ms/step - loss: 0.0207 - binary_accuracy: 0.9993 - val_loss: 0.0055 - val_binary_accuracy: 0.9995\n",
            "Epoch 5/20\n",
            "5500/5500 [==============================] - 7s 1ms/step - loss: 0.0226 - binary_accuracy: 0.9991 - val_loss: 0.0053 - val_binary_accuracy: 0.9995\n",
            "Epoch 6/20\n",
            "5500/5500 [==============================] - 7s 1ms/step - loss: 0.0208 - binary_accuracy: 0.9992 - val_loss: 0.0078 - val_binary_accuracy: 0.9993\n",
            "Epoch 7/20\n",
            "5500/5500 [==============================] - 7s 1ms/step - loss: 0.0199 - binary_accuracy: 0.9992 - val_loss: 0.0043 - val_binary_accuracy: 0.9995\n",
            "Epoch 8/20\n",
            "5500/5500 [==============================] - 7s 1ms/step - loss: 0.0209 - binary_accuracy: 0.9993 - val_loss: 0.0051 - val_binary_accuracy: 0.9994\n",
            "Epoch 9/20\n",
            "5500/5500 [==============================] - 7s 1ms/step - loss: 0.0192 - binary_accuracy: 0.9992 - val_loss: 0.0044 - val_binary_accuracy: 0.9995\n",
            "Epoch 10/20\n",
            "5500/5500 [==============================] - 7s 1ms/step - loss: 0.0200 - binary_accuracy: 0.9992 - val_loss: 0.0055 - val_binary_accuracy: 0.9994\n",
            "Epoch 11/20\n",
            "5500/5500 [==============================] - 7s 1ms/step - loss: 0.0166 - binary_accuracy: 0.9994 - val_loss: 0.0071 - val_binary_accuracy: 0.9994\n",
            "Epoch 12/20\n",
            "5500/5500 [==============================] - 7s 1ms/step - loss: 0.0191 - binary_accuracy: 0.9993 - val_loss: 0.0034 - val_binary_accuracy: 0.9995\n",
            "Epoch 13/20\n",
            "5500/5500 [==============================] - 7s 1ms/step - loss: 0.0172 - binary_accuracy: 0.9993 - val_loss: 0.0041 - val_binary_accuracy: 0.9995\n",
            "Epoch 14/20\n",
            "5500/5500 [==============================] - 7s 1ms/step - loss: 0.0194 - binary_accuracy: 0.9993 - val_loss: 0.0039 - val_binary_accuracy: 0.9995\n",
            "Epoch 15/20\n",
            "5500/5500 [==============================] - 7s 1ms/step - loss: 0.0193 - binary_accuracy: 0.9992 - val_loss: 0.0044 - val_binary_accuracy: 0.9994\n",
            "Epoch 16/20\n",
            "5500/5500 [==============================] - 7s 1ms/step - loss: 0.0146 - binary_accuracy: 0.9993 - val_loss: 0.0093 - val_binary_accuracy: 0.9993\n",
            "Epoch 17/20\n",
            "5500/5500 [==============================] - 7s 1ms/step - loss: 0.0171 - binary_accuracy: 0.9993 - val_loss: 0.0048 - val_binary_accuracy: 0.9994\n",
            "Epoch 18/20\n",
            "5500/5500 [==============================] - 7s 1ms/step - loss: 0.0179 - binary_accuracy: 0.9993 - val_loss: 0.0048 - val_binary_accuracy: 0.9995\n",
            "Epoch 19/20\n",
            "5500/5500 [==============================] - 7s 1ms/step - loss: 0.0170 - binary_accuracy: 0.9992 - val_loss: 0.0038 - val_binary_accuracy: 0.9995\n",
            "Epoch 20/20\n",
            "5500/5500 [==============================] - 7s 1ms/step - loss: 0.0211 - binary_accuracy: 0.9992 - val_loss: 0.0038 - val_binary_accuracy: 0.9995\n"
          ],
          "name": "stdout"
        }
      ]
    },
    {
      "cell_type": "code",
      "metadata": {
        "colab": {
          "base_uri": "https://localhost:8080/",
          "height": 316
        },
        "id": "xnkD5OZMtXpV",
        "outputId": "adffcab7-7ed6-4be6-8975-5360dbbfb18b"
      },
      "source": [
        "\n",
        "y_pred = (model.predict(X_test) > 0.5).astype(\"int32\")\n",
        "\n",
        "test_score = accuracy_score(y_pred, y_test)\n",
        "balanced_score = balanced_accuracy_score(y_test, y_pred)\n",
        "\n",
        "print('MLP training score', max(history.history['binary_accuracy']))\n",
        "print('MLP validation score: ', test_score)\n",
        "print('MLP balanced accuracy validation score: ', balanced_score)\n",
        "\n",
        "\n",
        "matrix = confusion_matrix(y_test, y_pred)\n",
        "sns.heatmap(matrix, annot=True, fmt='2.0f')\n",
        "plt.show()"
      ],
      "execution_count": 75,
      "outputs": [
        {
          "output_type": "stream",
          "text": [
            "MLP training score 0.9992897510528564\n",
            "MLP validation score:  0.9991924440855307\n",
            "MLP balanced accuracy validation score:  0.8926373201221963\n"
          ],
          "name": "stdout"
        },
        {
          "output_type": "display_data",
          "data": {
            "image/png": "[encoded data removed]",
            "text/plain": [
              "<Figure size 432x288 with 2 Axes>"
            ]
          },
          "metadata": {
            "tags": [],
            "needs_background": "light"
          }
        }
      ]
    }
  ]
}