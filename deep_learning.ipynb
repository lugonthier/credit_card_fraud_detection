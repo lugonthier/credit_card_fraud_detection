{
  "nbformat": 4,
  "nbformat_minor": 0,
  "metadata": {
    "colab": {
      "name": "deep_learning.ipynb",
      "provenance": [],
      "collapsed_sections": [],
      "authorship_tag": "ABX9TyP0Nqt9KY3P5iEA5mpSfnQh",
      "include_colab_link": true
    },
    "kernelspec": {
      "name": "python3",
      "display_name": "Python 3"
    }
  },
  "cells": [
    {
      "cell_type": "markdown",
      "metadata": {
        "id": "view-in-github",
        "colab_type": "text"
      },
      "source": [
        "<a href=\"https://colab.research.google.com/github/lugonthier/credit_card_fraud_detection/blob/new_v/deep_learning.ipynb\" target=\"_parent\"><img src=\"https://colab.research.google.com/assets/colab-badge.svg\" alt=\"Open In Colab\"/></a>"
      ]
    },
    {
      "cell_type": "code",
      "metadata": {
        "id": "_rYpjn82m51R"
      },
      "source": [
        ""
      ],
      "execution_count": null,
      "outputs": []
    },
    {
      "cell_type": "markdown",
      "metadata": {
        "id": "pJbY7p3Sm8HY"
      },
      "source": [
        "#<center>DEEP LEARNING</center>"
      ]
    },
    {
      "cell_type": "code",
      "metadata": {
        "id": "FZxT4LjFnCsv"
      },
      "source": [
        "import pandas as pd\n",
        "import matplotlib.pyplot as plt\n",
        "import seaborn as sns\n",
        "import numpy as np\n",
        "#import warnings\n",
        "#warnings.filterwarnings(\"ignore\")"
      ],
      "execution_count": 1,
      "outputs": []
    },
    {
      "cell_type": "code",
      "metadata": {
        "colab": {
          "base_uri": "https://localhost:8080/"
        },
        "id": "-_pLG3GrnIQ-",
        "outputId": "d03cb159-d484-48c2-d2c6-fc96577649ed"
      },
      "source": [
        "from google.colab import drive\n",
        "drive.mount(\"/content/gdrive\")"
      ],
      "execution_count": 2,
      "outputs": [
        {
          "output_type": "stream",
          "text": [
            "Mounted at /content/gdrive\n"
          ],
          "name": "stdout"
        }
      ]
    },
    {
      "cell_type": "code",
      "metadata": {
        "id": "KF0dNaronMub"
      },
      "source": [
        "df_origin_train =  pd.read_csv('/content/gdrive/MyDrive/DS_project/dataset/credit_card_fraud/train_set.csv')\n",
        "df_test =  pd.read_csv('/content/gdrive/MyDrive/DS_project/dataset/credit_card_fraud/test_set.csv')"
      ],
      "execution_count": 3,
      "outputs": []
    },
    {
      "cell_type": "code",
      "metadata": {
        "id": "JJVd7_Kto880"
      },
      "source": [
        "from sklearn.model_selection import train_test_split"
      ],
      "execution_count": 11,
      "outputs": []
    },
    {
      "cell_type": "code",
      "metadata": {
        "id": "kIO-ubM5niCE"
      },
      "source": [
        "X_origin_train = df_origin_train.drop(columns=['Class'])\n",
        "y_origin_train = df_origin_train['Class']\n",
        "\n",
        "X_test = df_test.drop(columns=['Class'])\n",
        "y_test = df_test['Class']"
      ],
      "execution_count": 12,
      "outputs": []
    },
    {
      "cell_type": "code",
      "metadata": {
        "id": "rjpSJ5v_ow2Q"
      },
      "source": [
        "X_train, X_valid, y_train, y_valid = train_test_split(X_origin_train, y_origin_train, test_size=0.2, random_state=42)"
      ],
      "execution_count": 13,
      "outputs": []
    },
    {
      "cell_type": "markdown",
      "metadata": {
        "id": "XgoGTW34nvd7"
      },
      "source": [
        ""
      ]
    },
    {
      "cell_type": "markdown",
      "metadata": {
        "id": "oENuOrp4nvnn"
      },
      "source": [
        ""
      ]
    },
    {
      "cell_type": "code",
      "metadata": {
        "id": "BMPp5tx9nvwy"
      },
      "source": [
        "from tensorflow import keras\n",
        "from sklearn.metrics import accuracy_score, balanced_accuracy_score, confusion_matrix"
      ],
      "execution_count": 45,
      "outputs": []
    },
    {
      "cell_type": "code",
      "metadata": {
        "colab": {
          "base_uri": "https://localhost:8080/"
        },
        "id": "rrtSHdvBnv1R",
        "outputId": "a8bbd61f-719c-45c3-f7ee-86cd885dd559"
      },
      "source": [
        "X_train.shape"
      ],
      "execution_count": 15,
      "outputs": [
        {
          "output_type": "execute_result",
          "data": {
            "text/plain": [
              "(175989, 10)"
            ]
          },
          "metadata": {
            "tags": []
          },
          "execution_count": 15
        }
      ]
    },
    {
      "cell_type": "code",
      "metadata": {
        "id": "fw1nrkN3oGU3"
      },
      "source": [
        "\n",
        "class_weight = {0: 1.,\n",
        "                1: 10.}"
      ],
      "execution_count": 72,
      "outputs": []
    },
    {
      "cell_type": "code",
      "metadata": {
        "id": "K7mY6i8NoQxI"
      },
      "source": [
        "model = keras.models.Sequential()\n",
        "model.add(keras.layers.Flatten(input_shape=[10]))\n",
        "model.add(keras.layers.Dense(180, activation=\"relu\"))\n",
        "model.add(keras.layers.Dense(90, activation=\"relu\"))\n",
        "model.add(keras.layers.Dense(30, activation=\"relu\"))\n",
        "\n",
        "model.add(keras.layers.Dense(1, activation=\"sigmoid\"))"
      ],
      "execution_count": 84,
      "outputs": []
    },
    {
      "cell_type": "markdown",
      "metadata": {
        "id": "2oo1ZtRbriQ3"
      },
      "source": [
        "- <b>Binary Crossentropy Loss:</b>\n",
        "    - Computes the cross-entropy loss between true labels and predicted labels.\n",
        "    - cross-entropy loss when there are only two label classes (assumed to be 0 and 1).\n",
        "\n",
        "- <b> BinaryAccuracy metric: </b>\n",
        "    - Calculates how often predictions match binary labels."
      ]
    },
    {
      "cell_type": "code",
      "metadata": {
        "id": "5QQAzCMKoi36"
      },
      "source": [
        "model.compile(loss=\"binary_crossentropy\", optimizer=\"adam\",  metrics=[\"BinaryAccuracy\"])"
      ],
      "execution_count": 85,
      "outputs": []
    },
    {
      "cell_type": "code",
      "metadata": {
        "colab": {
          "base_uri": "https://localhost:8080/"
        },
        "id": "ahFF5k3ionoI",
        "outputId": "b20ecf43-3552-46ef-dac9-cbe9ec93f497"
      },
      "source": [
        "history = model.fit(X_train, y_train.to_numpy(), epochs=10, validation_data=(X_valid, y_valid.to_numpy()), class_weight=class_weight)"
      ],
      "execution_count": 86,
      "outputs": [
        {
          "output_type": "stream",
          "text": [
            "Epoch 1/10\n",
            "5500/5500 [==============================] - 10s 2ms/step - loss: 0.0454 - binary_accuracy: 0.9986 - val_loss: 0.0038 - val_binary_accuracy: 0.9996\n",
            "Epoch 2/10\n",
            "5500/5500 [==============================] - 10s 2ms/step - loss: 0.0201 - binary_accuracy: 0.9988 - val_loss: 0.0052 - val_binary_accuracy: 0.9996\n",
            "Epoch 3/10\n",
            "5500/5500 [==============================] - 10s 2ms/step - loss: 0.0203 - binary_accuracy: 0.9992 - val_loss: 0.0057 - val_binary_accuracy: 0.9995\n",
            "Epoch 4/10\n",
            "5500/5500 [==============================] - 10s 2ms/step - loss: 0.0175 - binary_accuracy: 0.9988 - val_loss: 0.0034 - val_binary_accuracy: 0.9996\n",
            "Epoch 5/10\n",
            "5500/5500 [==============================] - 10s 2ms/step - loss: 0.0163 - binary_accuracy: 0.9993 - val_loss: 0.0039 - val_binary_accuracy: 0.9995\n",
            "Epoch 6/10\n",
            "5500/5500 [==============================] - 10s 2ms/step - loss: 0.0179 - binary_accuracy: 0.9992 - val_loss: 0.0039 - val_binary_accuracy: 0.9996\n",
            "Epoch 7/10\n",
            "5500/5500 [==============================] - 10s 2ms/step - loss: 0.0158 - binary_accuracy: 0.9994 - val_loss: 0.0060 - val_binary_accuracy: 0.9996\n",
            "Epoch 8/10\n",
            "5500/5500 [==============================] - 10s 2ms/step - loss: 0.0138 - binary_accuracy: 0.9995 - val_loss: 0.0034 - val_binary_accuracy: 0.9996\n",
            "Epoch 9/10\n",
            "5500/5500 [==============================] - 10s 2ms/step - loss: 0.0151 - binary_accuracy: 0.9994 - val_loss: 0.0047 - val_binary_accuracy: 0.9996\n",
            "Epoch 10/10\n",
            "5500/5500 [==============================] - 10s 2ms/step - loss: 0.0197 - binary_accuracy: 0.9993 - val_loss: 0.0043 - val_binary_accuracy: 0.9996\n"
          ],
          "name": "stdout"
        }
      ]
    },
    {
      "cell_type": "code",
      "metadata": {
        "colab": {
          "base_uri": "https://localhost:8080/",
          "height": 316
        },
        "id": "xnkD5OZMtXpV",
        "outputId": "a588b4d6-2fa2-4328-a4db-a377cef58917"
      },
      "source": [
        "\n",
        "y_pred = (model.predict(X_test) > 0.5).astype(\"int32\")\n",
        "\n",
        "test_score = accuracy_score(y_pred, y_test)\n",
        "balanced_score = balanced_accuracy_score(y_test, y_pred)\n",
        "\n",
        "print('MLP training score', max(history.history['binary_accuracy']))\n",
        "print('MLP validation score: ', test_score)\n",
        "print('MLP balanced accuracy validation score: ', balanced_score)\n",
        "\n",
        "\n",
        "matrix = confusion_matrix(y_test, y_pred)\n",
        "sns.heatmap(matrix, annot=True, fmt='2.0f')\n",
        "plt.show()"
      ],
      "execution_count": 88,
      "outputs": [
        {
          "output_type": "stream",
          "text": [
            "MLP training score 0.9994261264801025\n",
            "MLP validation score:  0.9992275552122467\n",
            "MLP balanced accuracy validation score:  0.8570021705924913\n"
          ],
          "name": "stdout"
        },
        {
          "output_type": "display_data",
          "data": {
            "image/png": "[encoded data removed]",
            "text/plain": [
              "<Figure size 432x288 with 2 Axes>"
            ]
          },
          "metadata": {
            "tags": [],
            "needs_background": "light"
          }
        }
      ]
    }
  ]
}